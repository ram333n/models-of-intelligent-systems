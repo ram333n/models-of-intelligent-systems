{
 "cells": [
  {
   "cell_type": "markdown",
   "source": [
    "# Variant 3\n",
    "`n = 8 => (8 + 4) % 5 + 1 = 3`"
   ],
   "metadata": {
    "collapsed": false
   }
  },
  {
   "cell_type": "markdown",
   "source": [
    "## Exercise 1\n",
    "*Завдання*: Виведіть перші 8 рядків набору даних."
   ],
   "metadata": {
    "collapsed": false
   }
  },
  {
   "cell_type": "code",
   "execution_count": 172,
   "outputs": [
    {
     "data": {
      "text/plain": "   Id       Name  Year Gender  Count\n0   1       Mary  1880      F   7065\n1   2       Anna  1880      F   2604\n2   3       Emma  1880      F   2003\n3   4  Elizabeth  1880      F   1939\n4   5     Minnie  1880      F   1746\n5   6   Margaret  1880      F   1578\n6   7        Ida  1880      F   1472\n7   8      Alice  1880      F   1414",
      "text/html": "<div>\n<style scoped>\n    .dataframe tbody tr th:only-of-type {\n        vertical-align: middle;\n    }\n\n    .dataframe tbody tr th {\n        vertical-align: top;\n    }\n\n    .dataframe thead th {\n        text-align: right;\n    }\n</style>\n<table border=\"1\" class=\"dataframe\">\n  <thead>\n    <tr style=\"text-align: right;\">\n      <th></th>\n      <th>Id</th>\n      <th>Name</th>\n      <th>Year</th>\n      <th>Gender</th>\n      <th>Count</th>\n    </tr>\n  </thead>\n  <tbody>\n    <tr>\n      <th>0</th>\n      <td>1</td>\n      <td>Mary</td>\n      <td>1880</td>\n      <td>F</td>\n      <td>7065</td>\n    </tr>\n    <tr>\n      <th>1</th>\n      <td>2</td>\n      <td>Anna</td>\n      <td>1880</td>\n      <td>F</td>\n      <td>2604</td>\n    </tr>\n    <tr>\n      <th>2</th>\n      <td>3</td>\n      <td>Emma</td>\n      <td>1880</td>\n      <td>F</td>\n      <td>2003</td>\n    </tr>\n    <tr>\n      <th>3</th>\n      <td>4</td>\n      <td>Elizabeth</td>\n      <td>1880</td>\n      <td>F</td>\n      <td>1939</td>\n    </tr>\n    <tr>\n      <th>4</th>\n      <td>5</td>\n      <td>Minnie</td>\n      <td>1880</td>\n      <td>F</td>\n      <td>1746</td>\n    </tr>\n    <tr>\n      <th>5</th>\n      <td>6</td>\n      <td>Margaret</td>\n      <td>1880</td>\n      <td>F</td>\n      <td>1578</td>\n    </tr>\n    <tr>\n      <th>6</th>\n      <td>7</td>\n      <td>Ida</td>\n      <td>1880</td>\n      <td>F</td>\n      <td>1472</td>\n    </tr>\n    <tr>\n      <th>7</th>\n      <td>8</td>\n      <td>Alice</td>\n      <td>1880</td>\n      <td>F</td>\n      <td>1414</td>\n    </tr>\n  </tbody>\n</table>\n</div>"
     },
     "execution_count": 172,
     "metadata": {},
     "output_type": "execute_result"
    }
   ],
   "source": [
    "import pandas as pd\n",
    "\n",
    "df = pd.read_csv('./NationalNames.csv')\n",
    "df[:8]"
   ],
   "metadata": {
    "collapsed": false
   }
  },
  {
   "cell_type": "markdown",
   "source": [
    "## Exercise 2\n",
    "*Завдання*: Вивести останні 8 рядків набору даних."
   ],
   "metadata": {
    "collapsed": false
   }
  },
  {
   "cell_type": "code",
   "execution_count": 173,
   "outputs": [
    {
     "data": {
      "text/plain": "              Id     Name  Year Gender  Count\n1825425  1825426       Zo  2014      M      5\n1825426  1825427    Zyeir  2014      M      5\n1825427  1825428     Zyel  2014      M      5\n1825428  1825429   Zykeem  2014      M      5\n1825429  1825430   Zymeer  2014      M      5\n1825430  1825431  Zymiere  2014      M      5\n1825431  1825432    Zyran  2014      M      5\n1825432  1825433    Zyrin  2014      M      5",
      "text/html": "<div>\n<style scoped>\n    .dataframe tbody tr th:only-of-type {\n        vertical-align: middle;\n    }\n\n    .dataframe tbody tr th {\n        vertical-align: top;\n    }\n\n    .dataframe thead th {\n        text-align: right;\n    }\n</style>\n<table border=\"1\" class=\"dataframe\">\n  <thead>\n    <tr style=\"text-align: right;\">\n      <th></th>\n      <th>Id</th>\n      <th>Name</th>\n      <th>Year</th>\n      <th>Gender</th>\n      <th>Count</th>\n    </tr>\n  </thead>\n  <tbody>\n    <tr>\n      <th>1825425</th>\n      <td>1825426</td>\n      <td>Zo</td>\n      <td>2014</td>\n      <td>M</td>\n      <td>5</td>\n    </tr>\n    <tr>\n      <th>1825426</th>\n      <td>1825427</td>\n      <td>Zyeir</td>\n      <td>2014</td>\n      <td>M</td>\n      <td>5</td>\n    </tr>\n    <tr>\n      <th>1825427</th>\n      <td>1825428</td>\n      <td>Zyel</td>\n      <td>2014</td>\n      <td>M</td>\n      <td>5</td>\n    </tr>\n    <tr>\n      <th>1825428</th>\n      <td>1825429</td>\n      <td>Zykeem</td>\n      <td>2014</td>\n      <td>M</td>\n      <td>5</td>\n    </tr>\n    <tr>\n      <th>1825429</th>\n      <td>1825430</td>\n      <td>Zymeer</td>\n      <td>2014</td>\n      <td>M</td>\n      <td>5</td>\n    </tr>\n    <tr>\n      <th>1825430</th>\n      <td>1825431</td>\n      <td>Zymiere</td>\n      <td>2014</td>\n      <td>M</td>\n      <td>5</td>\n    </tr>\n    <tr>\n      <th>1825431</th>\n      <td>1825432</td>\n      <td>Zyran</td>\n      <td>2014</td>\n      <td>M</td>\n      <td>5</td>\n    </tr>\n    <tr>\n      <th>1825432</th>\n      <td>1825433</td>\n      <td>Zyrin</td>\n      <td>2014</td>\n      <td>M</td>\n      <td>5</td>\n    </tr>\n  </tbody>\n</table>\n</div>"
     },
     "execution_count": 173,
     "metadata": {},
     "output_type": "execute_result"
    }
   ],
   "source": [
    "df.tail(8)"
   ],
   "metadata": {
    "collapsed": false
   }
  },
  {
   "cell_type": "markdown",
   "source": [
    "## Exercise 4\n",
    "*Завдання*: Отримайте загальну інформацію про дані у наборі даних."
   ],
   "metadata": {
    "collapsed": false
   }
  },
  {
   "cell_type": "code",
   "execution_count": 174,
   "outputs": [
    {
     "data": {
      "text/plain": "                 Id          Year         Count\ncount  1.825433e+06  1.825433e+06  1.825433e+06\nmean   9.127170e+05  1.972620e+03  1.846879e+02\nstd    5.269573e+05  3.352891e+01  1.566711e+03\nmin    1.000000e+00  1.880000e+03  5.000000e+00\n25%    4.563590e+05  1.949000e+03  7.000000e+00\n50%    9.127170e+05  1.982000e+03  1.200000e+01\n75%    1.369075e+06  2.001000e+03  3.200000e+01\nmax    1.825433e+06  2.014000e+03  9.968000e+04",
      "text/html": "<div>\n<style scoped>\n    .dataframe tbody tr th:only-of-type {\n        vertical-align: middle;\n    }\n\n    .dataframe tbody tr th {\n        vertical-align: top;\n    }\n\n    .dataframe thead th {\n        text-align: right;\n    }\n</style>\n<table border=\"1\" class=\"dataframe\">\n  <thead>\n    <tr style=\"text-align: right;\">\n      <th></th>\n      <th>Id</th>\n      <th>Year</th>\n      <th>Count</th>\n    </tr>\n  </thead>\n  <tbody>\n    <tr>\n      <th>count</th>\n      <td>1.825433e+06</td>\n      <td>1.825433e+06</td>\n      <td>1.825433e+06</td>\n    </tr>\n    <tr>\n      <th>mean</th>\n      <td>9.127170e+05</td>\n      <td>1.972620e+03</td>\n      <td>1.846879e+02</td>\n    </tr>\n    <tr>\n      <th>std</th>\n      <td>5.269573e+05</td>\n      <td>3.352891e+01</td>\n      <td>1.566711e+03</td>\n    </tr>\n    <tr>\n      <th>min</th>\n      <td>1.000000e+00</td>\n      <td>1.880000e+03</td>\n      <td>5.000000e+00</td>\n    </tr>\n    <tr>\n      <th>25%</th>\n      <td>4.563590e+05</td>\n      <td>1.949000e+03</td>\n      <td>7.000000e+00</td>\n    </tr>\n    <tr>\n      <th>50%</th>\n      <td>9.127170e+05</td>\n      <td>1.982000e+03</td>\n      <td>1.200000e+01</td>\n    </tr>\n    <tr>\n      <th>75%</th>\n      <td>1.369075e+06</td>\n      <td>2.001000e+03</td>\n      <td>3.200000e+01</td>\n    </tr>\n    <tr>\n      <th>max</th>\n      <td>1.825433e+06</td>\n      <td>2.014000e+03</td>\n      <td>9.968000e+04</td>\n    </tr>\n  </tbody>\n</table>\n</div>"
     },
     "execution_count": 174,
     "metadata": {},
     "output_type": "execute_result"
    }
   ],
   "source": [
    "df.describe()"
   ],
   "metadata": {
    "collapsed": false
   }
  },
  {
   "cell_type": "markdown",
   "source": [
    "## Exercise 5\n",
    "*Завдання*: Знайдіть кількість унікальних імен у наборі даних."
   ],
   "metadata": {
    "collapsed": false
   }
  },
  {
   "cell_type": "code",
   "execution_count": 175,
   "outputs": [
    {
     "data": {
      "text/plain": "93889"
     },
     "execution_count": 175,
     "metadata": {},
     "output_type": "execute_result"
    }
   ],
   "source": [
    "df['Name'].nunique()"
   ],
   "metadata": {
    "collapsed": false
   }
  },
  {
   "cell_type": "markdown",
   "source": [
    "## Exercise 6\n",
    "*Завдання*: Обчисліть кількість унікальних жіночих та чоловічих імен у цілому наборі даних."
   ],
   "metadata": {
    "collapsed": false
   }
  },
  {
   "cell_type": "code",
   "execution_count": 176,
   "outputs": [
    {
     "data": {
      "text/plain": "Gender\nF    64911\nM    39199\nName: Name, dtype: int64"
     },
     "execution_count": 176,
     "metadata": {},
     "output_type": "execute_result"
    }
   ],
   "source": [
    "df.groupby(['Gender'])['Name'].nunique()"
   ],
   "metadata": {
    "collapsed": false
   }
  },
  {
   "cell_type": "markdown",
   "source": [
    "## Exercise 7\n",
    "*Завдання*: Знайдіть 5 найпопулярніших чоловічих імен у 2010 році."
   ],
   "metadata": {
    "collapsed": false
   }
  },
  {
   "cell_type": "code",
   "execution_count": 177,
   "outputs": [
    {
     "data": {
      "text/plain": "              Id     Name  Year Gender  Count\n1677392  1677393    Jacob  2010      M  22082\n1677393  1677394    Ethan  2010      M  17985\n1677394  1677395  Michael  2010      M  17308\n1677395  1677396   Jayden  2010      M  17152\n1677396  1677397  William  2010      M  17030",
      "text/html": "<div>\n<style scoped>\n    .dataframe tbody tr th:only-of-type {\n        vertical-align: middle;\n    }\n\n    .dataframe tbody tr th {\n        vertical-align: top;\n    }\n\n    .dataframe thead th {\n        text-align: right;\n    }\n</style>\n<table border=\"1\" class=\"dataframe\">\n  <thead>\n    <tr style=\"text-align: right;\">\n      <th></th>\n      <th>Id</th>\n      <th>Name</th>\n      <th>Year</th>\n      <th>Gender</th>\n      <th>Count</th>\n    </tr>\n  </thead>\n  <tbody>\n    <tr>\n      <th>1677392</th>\n      <td>1677393</td>\n      <td>Jacob</td>\n      <td>2010</td>\n      <td>M</td>\n      <td>22082</td>\n    </tr>\n    <tr>\n      <th>1677393</th>\n      <td>1677394</td>\n      <td>Ethan</td>\n      <td>2010</td>\n      <td>M</td>\n      <td>17985</td>\n    </tr>\n    <tr>\n      <th>1677394</th>\n      <td>1677395</td>\n      <td>Michael</td>\n      <td>2010</td>\n      <td>M</td>\n      <td>17308</td>\n    </tr>\n    <tr>\n      <th>1677395</th>\n      <td>1677396</td>\n      <td>Jayden</td>\n      <td>2010</td>\n      <td>M</td>\n      <td>17152</td>\n    </tr>\n    <tr>\n      <th>1677396</th>\n      <td>1677397</td>\n      <td>William</td>\n      <td>2010</td>\n      <td>M</td>\n      <td>17030</td>\n    </tr>\n  </tbody>\n</table>\n</div>"
     },
     "execution_count": 177,
     "metadata": {},
     "output_type": "execute_result"
    }
   ],
   "source": [
    "df[(df['Gender'] == 'M') & (df['Year'] == 2010)].sort_values(by=['Count'], ascending=False)[:5]"
   ],
   "metadata": {
    "collapsed": false
   }
  },
  {
   "cell_type": "markdown",
   "source": [
    "## Exercise 8\n",
    "*Завдання*: Знайдіть найпопулярніше ім’я за результатами одного року (ім’я, для якого `Count` максимальне)"
   ],
   "metadata": {
    "collapsed": false
   }
  },
  {
   "cell_type": "code",
   "execution_count": 178,
   "outputs": [
    {
     "name": "stdout",
     "output_type": "stream",
     "text": [
      "The name is Linda in 1947\n"
     ]
    }
   ],
   "source": [
    "result_row = df.sort_values(by=['Count'], ascending=False)[:1]\n",
    "print(f\"The name is {result_row.iat[0, 1]} in {result_row.iat[0, 2]}\")"
   ],
   "metadata": {
    "collapsed": false
   }
  },
  {
   "cell_type": "markdown",
   "source": [
    "## Exercise 9\n",
    "*Завдання*: Підрахуйте кількість записів, для яких `Count` - мінімальне у наборі."
   ],
   "metadata": {
    "collapsed": false
   }
  },
  {
   "cell_type": "code",
   "execution_count": 179,
   "outputs": [
    {
     "data": {
      "text/plain": "254615"
     },
     "execution_count": 179,
     "metadata": {},
     "output_type": "execute_result"
    }
   ],
   "source": [
    "len(df[df['Count'] == df['Count'].min()])"
   ],
   "metadata": {
    "collapsed": false
   }
  },
  {
   "cell_type": "markdown",
   "source": [
    "## Exercise 10\n",
    "*Завдання*: Підрахуйте кількість унікальних імен у кожному році."
   ],
   "metadata": {
    "collapsed": false
   }
  },
  {
   "cell_type": "code",
   "execution_count": 180,
   "outputs": [
    {
     "data": {
      "text/plain": "Year\n1880     1889\n1881     1830\n1882     2012\n1883     1962\n1884     2158\n        ...  \n2010    31603\n2011    31418\n2012    31236\n2013    30774\n2014    30579\nName: Name, Length: 135, dtype: int64"
     },
     "execution_count": 180,
     "metadata": {},
     "output_type": "execute_result"
    }
   ],
   "source": [
    "df.groupby(['Year'])['Name'].nunique()"
   ],
   "metadata": {
    "collapsed": false
   }
  },
  {
   "cell_type": "markdown",
   "source": [
    "## Exercise 11\n",
    "*Завдання*: Знайдіть рік із найбільшою кількістю унікальних імен."
   ],
   "metadata": {
    "collapsed": false
   }
  },
  {
   "cell_type": "code",
   "execution_count": 181,
   "outputs": [
    {
     "data": {
      "text/plain": "Year\n2008    32488\nName: Name, dtype: int64"
     },
     "execution_count": 181,
     "metadata": {},
     "output_type": "execute_result"
    }
   ],
   "source": [
    "df.groupby(['Year']).nunique().sort_values(by=['Name'], ascending=False)[:1]['Name']"
   ],
   "metadata": {
    "collapsed": false
   }
  },
  {
   "cell_type": "markdown",
   "source": [
    "## Exercise 12\n",
    "*Завдання*: Знайдіть найпопулярніше ім’я в році з найбільшою кількістю унікальних імен (тобто у 2008 році)"
   ],
   "metadata": {
    "collapsed": false
   }
  },
  {
   "cell_type": "code",
   "execution_count": 182,
   "outputs": [
    {
     "data": {
      "text/plain": "'Jacob'"
     },
     "execution_count": 182,
     "metadata": {},
     "output_type": "execute_result"
    }
   ],
   "source": [
    "year_with_max_unique_count = 2008\n",
    "df[df['Year'] == year_with_max_unique_count].sort_values(by=['Count'], ascending=False)[:1].iat[0, 1]"
   ],
   "metadata": {
    "collapsed": false
   }
  },
  {
   "cell_type": "markdown",
   "source": [
    "## Exercise 18\n",
    "*Завдання*: Підрахуйте кількість років, коли дівчаток народжувалось більше, ніж хлопчиків."
   ],
   "metadata": {
    "collapsed": false
   }
  },
  {
   "cell_type": "code",
   "execution_count": 198,
   "outputs": [
    {
     "data": {
      "text/plain": "54"
     },
     "execution_count": 198,
     "metadata": {},
     "output_type": "execute_result"
    }
   ],
   "source": [
    "birth_by_year = df.groupby(['Year', 'Gender'])['Count'].sum().unstack()\n",
    "len(birth_by_year[birth_by_year['F'] > birth_by_year['M']])"
   ],
   "metadata": {
    "collapsed": false
   }
  },
  {
   "cell_type": "markdown",
   "source": [
    "## Exercise 19\n",
    "*Завдання*: Накресліть графік загальної кількості народжень хлопчиків та дівчаток на рік."
   ],
   "metadata": {
    "collapsed": false
   }
  },
  {
   "cell_type": "code",
   "execution_count": 200,
   "outputs": [
    {
     "data": {
      "text/plain": "<AxesSubplot: xlabel='Year'>"
     },
     "execution_count": 200,
     "metadata": {},
     "output_type": "execute_result"
    },
    {
     "data": {
      "text/plain": "<Figure size 640x480 with 1 Axes>",
      "image/png": "[encoded data removed]"
     },
     "metadata": {},
     "output_type": "display_data"
    }
   ],
   "source": [
    "birth_by_year.plot()"
   ],
   "metadata": {
    "collapsed": false
   }
  },
  {
   "cell_type": "code",
   "execution_count": 184,
   "outputs": [],
   "source": [],
   "metadata": {
    "collapsed": false
   }
  }
 ],
 "metadata": {
  "kernelspec": {
   "display_name": "Python 3",
   "language": "python",
   "name": "python3"
  },
  "language_info": {
   "codemirror_mode": {
    "name": "ipython",
    "version": 2
   },
   "file_extension": ".py",
   "mimetype": "text/x-python",
   "name": "python",
   "nbconvert_exporter": "python",
   "pygments_lexer": "ipython2",
   "version": "2.7.6"
  }
 },
 "nbformat": 4,
 "nbformat_minor": 0
}
