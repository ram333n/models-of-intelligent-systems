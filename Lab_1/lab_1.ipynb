{
 "cells": [
  {
   "cell_type": "markdown",
   "metadata": {
    "collapsed": false,
    "jupyter": {
     "outputs_hidden": false
    }
   },
   "source": [
    "# Variant 8"
   ]
  },
  {
   "cell_type": "markdown",
   "metadata": {
    "collapsed": false,
    "jupyter": {
     "outputs_hidden": false
    }
   },
   "source": [
    "## Task 1\n",
    "\n",
    "### Країна: *Грузія*\n",
    "\n",
    "#### Карта:\n",
    "\n",
    "<img src=\"https://lh6.googleusercontent.com/proxy/2C_FmEGXfbAYO2j1ka3aByjK913UYfv8JBp0gaRSlydAdyGSvbN29okrDgNd4SWPpmNYIao9JtIgpc7c7in50T2N6xd671M1WwfDz6qIM7ufZ5Dkk4wGLg\">\n",
    "\n",
    "#### Прапор:"
   ]
  },
  {
   "cell_type": "code",
   "execution_count": 1,
   "metadata": {
    "collapsed": false,
    "jupyter": {
     "outputs_hidden": false
    }
   },
   "outputs": [
    {
     "data": {
      "text/html": [
       "<svg xmlns=\"http://www.w3.org/2000/svg\" xmlns:xlink=\"http://www.w3.org/1999/xlink\" width=\"900\" height=\"600\" viewBox=\"0 0 30 20\" fill=\"#f00\">\n",
       "\t<title>Flag of Georgia</title>\n",
       "\t<path fill=\"#fff\" d=\"m0 0h30v20H0z\"/>\n",
       "\t<path d=\"m13 0h4v20h-4zM0 8h30v4H0z\"/>\n",
       "\t<g id=\"c\">\n",
       "\t\t<g id=\"b\">\n",
       "\t\t\t<path id=\"a\" d=\"m5.7968 1.954a5.4 5.4 0 0 0 1.4064 0 10.4 10.4 0 0 0 0 4.092 5.4 5.4 0 0 0-1.4064 0 10.4 10.4 0 0 0 0-4.092z\"/>\n",
       "\t\t\t<use transform=\"rotate(90,6.5,4)\" xlink:href=\"#a\"/>\n",
       "\t\t</g>\n",
       "\t\t<use x=\"17\" xlink:href=\"#b\"/>\n",
       "\t</g>\n",
       "\t<use y=\"12\" xlink:href=\"#c\"/>\n",
       "</svg>\n"
      ],
      "text/plain": [
       "<IPython.core.display.HTML object>"
      ]
     },
     "metadata": {},
     "output_type": "display_data"
    }
   ],
   "source": [
    "%%HTML\n",
    "<svg xmlns=\"http://www.w3.org/2000/svg\" xmlns:xlink=\"http://www.w3.org/1999/xlink\" width=\"900\" height=\"600\" viewBox=\"0 0 30 20\" fill=\"#f00\">\n",
    "\t<title>Flag of Georgia</title>\n",
    "\t<path fill=\"#fff\" d=\"m0 0h30v20H0z\"/>\n",
    "\t<path d=\"m13 0h4v20h-4zM0 8h30v4H0z\"/>\n",
    "\t<g id=\"c\">\n",
    "\t\t<g id=\"b\">\n",
    "\t\t\t<path id=\"a\" d=\"m5.7968 1.954a5.4 5.4 0 0 0 1.4064 0 10.4 10.4 0 0 0 0 4.092 5.4 5.4 0 0 0-1.4064 0 10.4 10.4 0 0 0 0-4.092z\"/>\n",
    "\t\t\t<use transform=\"rotate(90,6.5,4)\" xlink:href=\"#a\"/>\n",
    "\t\t</g>\n",
    "\t\t<use x=\"17\" xlink:href=\"#b\"/>\n",
    "\t</g>\n",
    "\t<use y=\"12\" xlink:href=\"#c\"/>\n",
    "</svg>"
   ]
  },
  {
   "cell_type": "markdown",
   "metadata": {
    "collapsed": false,
    "jupyter": {
     "outputs_hidden": false
    }
   },
   "source": [
    "#### Герб:\n",
    "\n",
    "<img src=\"emblem.png\">"
   ]
  },
  {
   "cell_type": "markdown",
   "metadata": {
    "collapsed": false,
    "jupyter": {
     "outputs_hidden": false
    }
   },
   "source": [
    "#### Основні факти:\n",
    "- Столиця: *Тбілісі*\n",
    "- Площа: <font color='yellow'>*69 700 км²*</font>\n",
    "- Населення:\n",
    "  - Кількість осіб: <font color='green'>*3729500*</font>\n",
    "  - Густота: <font color='green'>*53,5/км²*</font>\n",
    "\n",
    "#### Девіз:\n",
    "\n",
    "<div style=\"border: 1px solid black; padding: 10px; font-style: italic\">\n",
    "    \"Сила в єднанні\"\n",
    "</div>\n",
    "\n",
    "#### Офіційний сайт: [посилання](https://georgia.gov/)\n",
    "\n",
    "#### Вікова структура:\n",
    "\n",
    "| Вікова група | Чоловіки      | Жінки         | Разом         | %       |\n",
    "|--------------|---------------|---------------|---------------|---------|\n",
    "| 0-4          | 152,650       | 137,150       | 289,800       | 6.45    |\n",
    "| 5-9          | 123,200       | 110,150       | 233,350       | 5.20    |\n",
    "| 10-14        | 125,850       | 113,000       | 238,850       | 5.32    |\n",
    "| 15-19        | 151,600       | 142,000       | 293,600       | 6.54    |\n",
    "| 20-24        | 186,250       | 181,950       | 368,200       | 8.20    |\n",
    "| 25-29        | 181,250       | 178,300       | 359,550       | 8.01    |\n",
    "| 30-34        | 164,650       | 166,100       | 330,750       | 7.37    |\n",
    "| 35-39        | 153,900       | 159,800       | 313,700       | 6.99    |\n",
    "| 40-44        | 145,300       | 156,800       | 302,100       | 6.73    |\n",
    "| 45-49        | 145,550       | 166,700       | 312,250       | 6.95    |\n",
    "| 50-54        | 151,550       | 176,000       | 327,550       | 7.29    |\n",
    "| 55-59        | 123,800       | 148,600       | 272,400       | 6.07    |\n",
    "| 60-64        | 101,950       | 128,350       | 230,300       | 5.13    |\n",
    "| 65-69        | 54,950        | 74,950        | 129,900       | 2.89    |\n",
    "| 70-74        | 74,350        | 117,600       | 191,950       | 4.27    |\n",
    "| 75-79        | 53,750        | 85,700        | 139,450       | 3.11    |\n",
    "| 80-84        | 33,600        | 59,900        | 93,500        | 2.08    |\n",
    "| 85+          | 17,150        | 46,350        | 63,500        | 1.41    |\n",
    "| **Загалом**  | **2,141,300** | **2,349,400** | **4,490,700** | **100** |\n"
   ]
  },
  {
   "cell_type": "markdown",
   "metadata": {
    "collapsed": false,
    "jupyter": {
     "outputs_hidden": false
    }
   },
   "source": [
    "## Task 2\n",
    "\n",
    "*Завдання*: Реалізувати гном’яче сортування для введеного списку елементів. Вивід значень від найбільшого до найменшого."
   ]
  },
  {
   "cell_type": "code",
   "execution_count": 2,
   "metadata": {
    "collapsed": false,
    "jupyter": {
     "outputs_hidden": false
    }
   },
   "outputs": [],
   "source": [
    "def reverse_comparator(lhs, rhs):\n",
    "    return rhs - lhs\n",
    "\n",
    "\n",
    "def gnome_sort(array, comparator):\n",
    "    i = 0\n",
    "    while i < len(array):\n",
    "        if i == 0 or comparator(array[i], array[i - 1]) >= 0:\n",
    "            i += 1\n",
    "        else:\n",
    "            array[i], array[i - 1] = array[i - 1], array[i]\n",
    "            i -= 1\n",
    "\n",
    "\n",
    "def input_array():\n",
    "    input_list = input(\"Enter elements separated by space: \")\n",
    "\n",
    "    return [int(x) for x in input_list.split()]\n",
    "\n",
    "# input 1: 10 -15 4 10 6 -4 8 0 1\n",
    "# input 2: 99 -99 7 1 0 2 6\n",
    "# input 3: 10 15 -5 0 str 5\n",
    "\n",
    "def task_8():\n",
    "    try:\n",
    "        array = input_array()\n",
    "        gnome_sort(array, reverse_comparator)\n",
    "        print(f\"Sorted array: {array}\")\n",
    "    except ValueError:\n",
    "        print(\"Error, wrong input!\")"
   ]
  },
  {
   "cell_type": "code",
   "execution_count": 3,
   "metadata": {
    "collapsed": false,
    "jupyter": {
     "outputs_hidden": false
    }
   },
   "outputs": [
    {
     "name": "stdin",
     "output_type": "stream",
     "text": [
      "Enter elements separated by space:  10 -15 4 10 6 -4 8 0 1\n"
     ]
    },
    {
     "name": "stdout",
     "output_type": "stream",
     "text": [
      "Sorted array: [10, 10, 8, 6, 4, 1, 0, -4, -15]\n"
     ]
    }
   ],
   "source": [
    "task_8()"
   ]
  },
  {
   "cell_type": "code",
   "execution_count": 4,
   "metadata": {
    "collapsed": false,
    "jupyter": {
     "outputs_hidden": false
    }
   },
   "outputs": [
    {
     "name": "stdin",
     "output_type": "stream",
     "text": [
      "Enter elements separated by space:  99 -99 7 1 0 2 6\n"
     ]
    },
    {
     "name": "stdout",
     "output_type": "stream",
     "text": [
      "Sorted array: [99, 7, 6, 2, 1, 0, -99]\n"
     ]
    }
   ],
   "source": [
    "task_8()"
   ]
  },
  {
   "cell_type": "code",
   "execution_count": 5,
   "metadata": {
    "collapsed": false,
    "jupyter": {
     "outputs_hidden": false
    }
   },
   "outputs": [
    {
     "name": "stdin",
     "output_type": "stream",
     "text": [
      "Enter elements separated by space:  10 15 -5 0 str 5\n"
     ]
    },
    {
     "name": "stdout",
     "output_type": "stream",
     "text": [
      "Error, wrong input!\n"
     ]
    }
   ],
   "source": [
    "task_8()"
   ]
  }
 ],
 "metadata": {
  "kernelspec": {
   "display_name": "Python 3 (ipykernel)",
   "language": "python",
   "name": "python3"
  },
  "language_info": {
   "codemirror_mode": {
    "name": "ipython",
    "version": 3
   },
   "file_extension": ".py",
   "mimetype": "text/x-python",
   "name": "python",
   "nbconvert_exporter": "python",
   "pygments_lexer": "ipython3",
   "version": "3.10.7"
  }
 },
 "nbformat": 4,
 "nbformat_minor": 4
}
