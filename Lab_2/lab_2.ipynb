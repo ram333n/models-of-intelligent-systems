{
 "cells": [
  {
   "cell_type": "markdown",
   "source": [
    "# Task 1"
   ],
   "metadata": {
    "collapsed": false
   }
  },
  {
   "cell_type": "markdown",
   "source": [
    "## Exercise 1\n",
    "*Завдання*: Вводиться число n. Вивести масив розміру n×n, в якому по діагоналі йдуть числа від 1 до n, а інші числа дорівнюють 0."
   ],
   "metadata": {
    "collapsed": false
   }
  },
  {
   "cell_type": "code",
   "execution_count": 12,
   "outputs": [
    {
     "name": "stdout",
     "output_type": "stream",
     "text": [
      "=========Default=========\n",
      "6.39 µs ± 82.4 ns per loop (mean ± std. dev. of 7 runs, 1,000 loops each)\n",
      "=========Numpy=========\n",
      "2.32 µs ± 774 ns per loop (mean ± std. dev. of 7 runs, 1,000 loops each)\n",
      "=========Default result=========\n",
      "[[1, 0, 0, 0, 0, 0, 0, 0, 0, 0], [0, 2, 0, 0, 0, 0, 0, 0, 0, 0], [0, 0, 3, 0, 0, 0, 0, 0, 0, 0], [0, 0, 0, 4, 0, 0, 0, 0, 0, 0], [0, 0, 0, 0, 5, 0, 0, 0, 0, 0], [0, 0, 0, 0, 0, 6, 0, 0, 0, 0], [0, 0, 0, 0, 0, 0, 7, 0, 0, 0], [0, 0, 0, 0, 0, 0, 0, 8, 0, 0], [0, 0, 0, 0, 0, 0, 0, 0, 9, 0], [0, 0, 0, 0, 0, 0, 0, 0, 0, 10]]\n",
      "=========Numpy result=========\n",
      "[[ 1  0  0  0  0  0  0  0  0  0]\n",
      " [ 0  2  0  0  0  0  0  0  0  0]\n",
      " [ 0  0  3  0  0  0  0  0  0  0]\n",
      " [ 0  0  0  4  0  0  0  0  0  0]\n",
      " [ 0  0  0  0  5  0  0  0  0  0]\n",
      " [ 0  0  0  0  0  6  0  0  0  0]\n",
      " [ 0  0  0  0  0  0  7  0  0  0]\n",
      " [ 0  0  0  0  0  0  0  8  0  0]\n",
      " [ 0  0  0  0  0  0  0  0  9  0]\n",
      " [ 0  0  0  0  0  0  0  0  0 10]]\n"
     ]
    }
   ],
   "source": [
    "import numpy as np\n",
    "\n",
    "\n",
    "def exercise_1_default(n):\n",
    "    result = []\n",
    "\n",
    "    for i in range(n):\n",
    "        row = []\n",
    "\n",
    "        for j in range(n):\n",
    "            value_to_append = i + 1 if i == j else 0\n",
    "            row.append(value_to_append)\n",
    "\n",
    "        result.append(row)\n",
    "\n",
    "    return result\n",
    "\n",
    "\n",
    "def exercise_1_numpy(n):\n",
    "    return np.diag(np.arange(1, n + 1, 1))\n",
    "\n",
    "\n",
    "n = 10\n",
    "\n",
    "print(\"=========Default=========\")\n",
    "%timeit -n 1000 exercise_1_default(n)\n",
    "\n",
    "print(\"=========Numpy=========\")\n",
    "%timeit -n 1000 exercise_1_numpy(n)\n",
    "\n",
    "print(\"=========Default result=========\")\n",
    "print(exercise_1_default(n))\n",
    "\n",
    "print(\"=========Numpy result=========\")\n",
    "print(exercise_1_numpy(n))"
   ],
   "metadata": {
    "collapsed": false
   }
  },
  {
   "cell_type": "markdown",
   "source": [
    "## Exercise 3\n",
    "*Завдання*: Вводяться 4 числа n, m, r, c. Вивести масив розміру n×m, в якому в кожному рядку з номером r і в кожному стовпчику з номером c стоять 0, а інші елементи дорівнюють 1."
   ],
   "metadata": {
    "collapsed": false
   }
  },
  {
   "cell_type": "code",
   "execution_count": 13,
   "outputs": [
    {
     "name": "stdout",
     "output_type": "stream",
     "text": [
      "=========Default=========\n",
      "3.83 µs ± 84 ns per loop (mean ± std. dev. of 7 runs, 1,000 loops each)\n",
      "=========Numpy=========\n",
      "2.3 µs ± 61.6 ns per loop (mean ± std. dev. of 7 runs, 1,000 loops each)\n",
      "=========Default result=========\n",
      "[[0, 0, 0, 0, 0, 0, 0], [0, 1, 1, 0, 1, 1, 0], [0, 0, 0, 0, 0, 0, 0], [0, 1, 1, 0, 1, 1, 0], [0, 0, 0, 0, 0, 0, 0], [0, 1, 1, 0, 1, 1, 0]]\n",
      "=========Numpy result=========\n",
      "[[0 0 0 0 0 0 0]\n",
      " [0 1 1 0 1 1 0]\n",
      " [0 0 0 0 0 0 0]\n",
      " [0 1 1 0 1 1 0]\n",
      " [0 0 0 0 0 0 0]\n",
      " [0 1 1 0 1 1 0]]\n"
     ]
    }
   ],
   "source": [
    "def exercise_3_default(n, m, r, c):\n",
    "    result = []\n",
    "\n",
    "    for i in range(n):\n",
    "        row = []\n",
    "\n",
    "        for j in range(m):\n",
    "            value_to_append = 0 if (i % r == 0 or j % c == 0) else 1\n",
    "            row.append(value_to_append)\n",
    "\n",
    "        result.append(row)\n",
    "\n",
    "    return result\n",
    "\n",
    "\n",
    "def exercise_3_numpy(n, m, r, c):\n",
    "    result = np.ones((n, m), dtype=int)\n",
    "    result[::r, :] = 0\n",
    "    result[:, ::c] = 0\n",
    "\n",
    "    return result\n",
    "\n",
    "\n",
    "n, m, r, c = (6, 7, 2, 3)\n",
    "\n",
    "\n",
    "print(\"=========Default=========\")\n",
    "%timeit -n 1000 exercise_3_default(n, m, r, c)\n",
    "\n",
    "print(\"=========Numpy=========\")\n",
    "%timeit -n 1000 exercise_3_numpy(n, m, r, c)\n",
    "\n",
    "print(\"=========Default result=========\")\n",
    "print(exercise_3_default(n, m, r, c))\n",
    "\n",
    "print(\"=========Numpy result=========\")\n",
    "print(exercise_3_numpy(n, m, r, c))"
   ],
   "metadata": {
    "collapsed": false
   }
  },
  {
   "cell_type": "markdown",
   "source": [
    "## Exercise 4\n",
    "*Завдання*: Вводяться числа n і m. Вивести масив розміру n×m, в якому у першому рядку (рядок з нулевим індексом) йдуть числа від 0 до m–1, а всі інші елементи матриці дорівнюють 0."
   ],
   "metadata": {
    "collapsed": false
   }
  },
  {
   "cell_type": "code",
   "execution_count": 14,
   "outputs": [
    {
     "name": "stdout",
     "output_type": "stream",
     "text": [
      "=========Default=========\n",
      "771 ns ± 8.64 ns per loop (mean ± std. dev. of 7 runs, 1,000 loops each)\n",
      "=========Numpy=========\n",
      "1.17 µs ± 196 ns per loop (mean ± std. dev. of 7 runs, 1,000 loops each)\n",
      "=========Default result=========\n",
      "[[0, 1, 2], [0, 0, 0], [0, 0, 0], [0, 0, 0]]\n",
      "=========Numpy result=========\n",
      "[[0 1 2]\n",
      " [0 0 0]\n",
      " [0 0 0]\n",
      " [0 0 0]]\n"
     ]
    }
   ],
   "source": [
    "def exercise_4_default(n, m):\n",
    "    result = []\n",
    "\n",
    "    for i in range(m):\n",
    "        row_to_append = [idx for idx in range(n)] if i == 0 else [0] * n\n",
    "        result.append(row_to_append)\n",
    "\n",
    "    return result\n",
    "\n",
    "\n",
    "def exercise_4_numpy(n, m):\n",
    "    result = np.zeros((m, n), dtype=int)\n",
    "    result[0] = np.arange(n)\n",
    "\n",
    "    return result\n",
    "\n",
    "\n",
    "n, m = (3, 4)\n",
    "\n",
    "print(\"=========Default=========\")\n",
    "%timeit -n 1000 exercise_4_default(n, m)\n",
    "\n",
    "print(\"=========Numpy=========\")\n",
    "%timeit -n 1000 exercise_4_numpy(n, m)\n",
    "\n",
    "print(\"=========Default result=========\")\n",
    "print(exercise_4_default(n, m))\n",
    "\n",
    "print(\"=========Numpy result=========\")\n",
    "print(exercise_4_numpy(n, m))"
   ],
   "metadata": {
    "collapsed": false
   }
  },
  {
   "cell_type": "markdown",
   "source": [
    "## Exercise 5\n",
    "*Завдання*: Вводиться число n. Вивести масив розміру n×n, в якому в рядках з парними індексами стоять 1, а в інших – 0."
   ],
   "metadata": {
    "collapsed": false
   }
  },
  {
   "cell_type": "code",
   "execution_count": 15,
   "outputs": [
    {
     "name": "stdout",
     "output_type": "stream",
     "text": [
      "=========Default=========\n",
      "761 ns ± 5.85 ns per loop (mean ± std. dev. of 7 runs, 1,000 loops each)\n",
      "=========Numpy=========\n",
      "2.07 µs ± 238 ns per loop (mean ± std. dev. of 7 runs, 1,000 loops each)\n",
      "=========Default result=========\n",
      "[[1, 1, 1, 1, 1], [0, 0, 0, 0, 0], [1, 1, 1, 1, 1], [0, 0, 0, 0, 0], [1, 1, 1, 1, 1]]\n",
      "=========Numpy result=========\n",
      "[[1 1 1 1 1]\n",
      " [0 0 0 0 0]\n",
      " [1 1 1 1 1]\n",
      " [0 0 0 0 0]\n",
      " [1 1 1 1 1]]\n"
     ]
    }
   ],
   "source": [
    "def exercise_5_default(n):\n",
    "    result = []\n",
    "\n",
    "    for i in range(n):\n",
    "        row_to_append = ([1] if i % 2 == 0 else [0]) * n\n",
    "        result.append(row_to_append)\n",
    "\n",
    "    return result\n",
    "\n",
    "\n",
    "def exercise_5_numpy(n):\n",
    "    result = np.zeros((n, n), dtype=int)\n",
    "    result[::2] = np.ones(n, dtype=int)\n",
    "\n",
    "    return result\n",
    "\n",
    "\n",
    "n = 5\n",
    "\n",
    "print(\"=========Default=========\")\n",
    "%timeit -n 1000 exercise_5_default(n)\n",
    "\n",
    "print(\"=========Numpy=========\")\n",
    "%timeit -n 1000 exercise_5_numpy(n)\n",
    "\n",
    "print(\"=========Default result=========\")\n",
    "print(exercise_5_default(n))\n",
    "\n",
    "print(\"=========Numpy result=========\")\n",
    "print(exercise_5_numpy(n))"
   ],
   "metadata": {
    "collapsed": false
   }
  },
  {
   "cell_type": "markdown",
   "source": [
    "## Exercise 10\n",
    "*Завдання*: Вводиться числа n i m. Створити масив випадкових значень n×m і обчислити мінімальне, максимальне значення, середнє та середньо квадратичне відхилення, округлене до 3 знаків після коми."
   ],
   "metadata": {
    "collapsed": false
   }
  },
  {
   "cell_type": "code",
   "execution_count": 16,
   "outputs": [
    {
     "name": "stdout",
     "output_type": "stream",
     "text": [
      "=========Default=========\n",
      "Matrix:\n",
      "[[75, 57, 93, 14], [56, 70, 16, 30], [76, 55, 91, 36]]\n",
      "Min: 14\n",
      "Max: 93\n",
      "Mean: 55.750\n",
      "Standard deviation: 25.807\n",
      "CPU times: total: 0 ns\n",
      "Wall time: 0 ns\n",
      "=========Numpy=========\n",
      "Matrix:\n",
      "[[ 2 58 93 69]\n",
      " [47 42 25 92]\n",
      " [37 96 36 96]]\n",
      "Min: 2\n",
      "Max: 96\n",
      "Mean: 57.750\n",
      "Standard deviation: 30.161\n",
      "CPU times: total: 0 ns\n",
      "Wall time: 0 ns\n"
     ]
    }
   ],
   "source": [
    "import math\n",
    "\n",
    "\n",
    "def generate_random_matrix_default(n, m=n, upper_bound=100):\n",
    "    result = []\n",
    "\n",
    "    for i in range(n):\n",
    "        row = []\n",
    "\n",
    "        for j in range(m):\n",
    "            row.append(np.random.randint(upper_bound))\n",
    "\n",
    "        result.append(row)\n",
    "\n",
    "    return result\n",
    "\n",
    "\n",
    "def exercise_10_default(n, m):\n",
    "    matrix = generate_random_matrix_default(n, m)\n",
    "\n",
    "    print(\"Matrix:\")\n",
    "    print(matrix)\n",
    "\n",
    "    min_value = min(min(matrix[i]) for i in range(n))\n",
    "    max_value = max(max(matrix[i]) for i in range(n))\n",
    "    sum_value = sum(sum(matrix[i]) for i in range(n))\n",
    "    mean = sum_value / (n * m)\n",
    "    sqr_diff = sum((matrix[i][j] - mean) ** 2 for i in range(n) for j in range(m))\n",
    "    std_dev = math.sqrt(sqr_diff / (n * m))\n",
    "\n",
    "    print(f\"Min: {min_value}\")\n",
    "    print(f\"Max: {max_value}\")\n",
    "    print(f\"Mean: {mean:.3f}\")\n",
    "    print(f\"Standard deviation: {std_dev:.3f}\")\n",
    "\n",
    "\n",
    "def exercise_10_numpy(n, m):\n",
    "    matrix = np.random.randint(0, 100, size=(n, m))\n",
    "\n",
    "    print(\"Matrix:\")\n",
    "    print(matrix)\n",
    "\n",
    "    print(f\"Min: {np.min(matrix)}\")\n",
    "    print(f\"Max: {np.max(matrix)}\")\n",
    "    print(f\"Mean: {np.mean(matrix):.3f}\")\n",
    "    print(f\"Standard deviation: {np.std(matrix):.3f}\")\n",
    "\n",
    "\n",
    "n, m = (3, 4)\n",
    "\n",
    "print(\"=========Default=========\")\n",
    "%time exercise_10_default(n, m)\n",
    "\n",
    "print(\"=========Numpy=========\")\n",
    "%time exercise_10_numpy(n, m)"
   ],
   "metadata": {
    "collapsed": false
   }
  },
  {
   "cell_type": "markdown",
   "source": [
    "## Exercise 12\n",
    "*Завдання*: Створити масив одиниць розміром n×n та створити в ньому «рамку», що утворюється з 0."
   ],
   "metadata": {
    "collapsed": false
   }
  },
  {
   "cell_type": "code",
   "execution_count": 17,
   "outputs": [
    {
     "name": "stdout",
     "output_type": "stream",
     "text": [
      "=========Default=========\n",
      "1.07 µs ± 4.41 ns per loop (mean ± std. dev. of 7 runs, 1,000 loops each)\n",
      "=========Numpy=========\n",
      "3.67 µs ± 429 ns per loop (mean ± std. dev. of 7 runs, 1,000 loops each)\n",
      "=========Default result=========\n",
      "[[0, 0, 0, 0, 0], [0, 1, 1, 1, 0], [0, 1, 1, 1, 0], [0, 1, 1, 1, 0], [0, 0, 0, 0, 0]]\n",
      "=========Numpy result=========\n",
      "[[0 0 0 0 0]\n",
      " [0 1 1 1 0]\n",
      " [0 1 1 1 0]\n",
      " [0 1 1 1 0]\n",
      " [0 0 0 0 0]]\n"
     ]
    }
   ],
   "source": [
    "def exercise_12_default(n):\n",
    "    result = []\n",
    "\n",
    "    for i in range(n):\n",
    "        row_to_append = [0] * n if (i == 0 or i == n - 1) else [0] + [1] * (n - 2) + [0]\n",
    "        result.append(row_to_append)\n",
    "\n",
    "    return result\n",
    "\n",
    "\n",
    "def exercise_12_numpy(n):\n",
    "    result = np.ones((n, n), dtype=int)\n",
    "\n",
    "    result[0] = np.zeros(n, dtype=int)\n",
    "    result[-1] = np.zeros(n, dtype=int)\n",
    "    result[:, 0] = np.zeros(n, dtype=int)\n",
    "    result[:, -1] = np.zeros(n, dtype=int)\n",
    "\n",
    "    return result\n",
    "\n",
    "n = 5\n",
    "\n",
    "print(\"=========Default=========\")\n",
    "%timeit -n 1000 exercise_12_default(n)\n",
    "\n",
    "print(\"=========Numpy=========\")\n",
    "%timeit -n 1000 exercise_12_numpy(n)\n",
    "\n",
    "print(\"=========Default result=========\")\n",
    "print(exercise_12_default(n))\n",
    "\n",
    "print(\"=========Numpy result=========\")\n",
    "print(exercise_12_numpy(n))"
   ],
   "metadata": {
    "collapsed": false
   }
  },
  {
   "cell_type": "markdown",
   "source": [
    "## Exercise 16\n",
    "*Завдання*: Заповнити вектор значеннями від 0 до n. Всі значення, що більші за n/4 та менші за 3n/4 замінити нулями."
   ],
   "metadata": {
    "collapsed": false
   }
  },
  {
   "cell_type": "code",
   "execution_count": 18,
   "outputs": [
    {
     "name": "stdout",
     "output_type": "stream",
     "text": [
      "=========Default=========\n",
      "1.26 µs ± 7.28 ns per loop (mean ± std. dev. of 7 runs, 1,000 loops each)\n",
      "=========Numpy=========\n",
      "3.94 µs ± 931 ns per loop (mean ± std. dev. of 7 runs, 1,000 loops each)\n",
      "=========Default result=========\n",
      "[0, 1, 2, 0, 0, 0, 0, 0, 8, 9, 10]\n",
      "=========Numpy result=========\n",
      "[ 0  1  2  0  0  0  0  0  8  9 10]\n"
     ]
    }
   ],
   "source": [
    "def exercise_16_default(n):\n",
    "    return [0 if (n / 4 < i < (3 * n) / 4) else i for i in range(n + 1)]\n",
    "\n",
    "\n",
    "def exercise_16_numpy(n):\n",
    "    result = np.arange(n + 1)\n",
    "    result[(result > n / 4) & (result < (3 * n) / 4)] = 0\n",
    "\n",
    "    return result\n",
    "\n",
    "n = 10\n",
    "\n",
    "print(\"=========Default=========\")\n",
    "%timeit -n 1000 exercise_16_default(n)\n",
    "\n",
    "print(\"=========Numpy=========\")\n",
    "%timeit -n 1000 exercise_16_numpy(n)\n",
    "\n",
    "print(\"=========Default result=========\")\n",
    "print(exercise_16_default(n))\n",
    "\n",
    "print(\"=========Numpy result=========\")\n",
    "print(exercise_16_numpy(n))"
   ],
   "metadata": {
    "collapsed": false
   }
  },
  {
   "cell_type": "markdown",
   "source": [
    "## Exercise 17\n",
    "*Завдання*: Заповнити вектор значеннями від 0 до n. Замінити знаки для всіх значень, що менші за n/2 та більші за 3n/4 на протилежні."
   ],
   "metadata": {
    "collapsed": false
   }
  },
  {
   "cell_type": "code",
   "execution_count": 19,
   "outputs": [
    {
     "name": "stdout",
     "output_type": "stream",
     "text": [
      "=========Default=========\n",
      "1.33 µs ± 156 ns per loop (mean ± std. dev. of 7 runs, 1,000 loops each)\n",
      "=========Numpy=========\n",
      "5.15 µs ± 640 ns per loop (mean ± std. dev. of 7 runs, 1,000 loops each)\n",
      "=========Default result=========\n",
      "[0, -1, -2, -3, -4, 5, 6, 7, -8, -9, -10]\n",
      "=========Numpy result=========\n",
      "[  0  -1  -2  -3  -4   5   6   7  -8  -9 -10]\n"
     ]
    }
   ],
   "source": [
    "def exercise_17_default(n):\n",
    "    return [-1 * i if (i < n / 2 or i > (3 * n) / 4 ) else i for i in range(n + 1)]\n",
    "\n",
    "\n",
    "def exercise_17_numpy(n):\n",
    "    result = np.arange(n + 1)\n",
    "    result[(result < n / 2) | (result > (3 * n) / 4)] *= -1\n",
    "\n",
    "    return result\n",
    "\n",
    "n = 10\n",
    "\n",
    "print(\"=========Default=========\")\n",
    "%timeit -n 1000 exercise_17_default(n)\n",
    "\n",
    "print(\"=========Numpy=========\")\n",
    "%timeit -n 1000 exercise_17_numpy(n)\n",
    "\n",
    "print(\"=========Default result=========\")\n",
    "print(exercise_17_default(n))\n",
    "\n",
    "print(\"=========Numpy result=========\")\n",
    "print(exercise_17_numpy(n))"
   ],
   "metadata": {
    "collapsed": false
   }
  },
  {
   "cell_type": "markdown",
   "source": [
    "# Exercise 21\n",
    "*Завдання*: Ввести числа n і m. Згенерувати матрицю n×n випадкових цілих елементів з діапазону [0, m]. Замінити всі максимальні елементи цієї матриці на протилежні за знаком."
   ],
   "metadata": {
    "collapsed": false
   }
  },
  {
   "cell_type": "code",
   "execution_count": 20,
   "outputs": [
    {
     "name": "stdout",
     "output_type": "stream",
     "text": [
      "=========Default=========\n",
      "Matrix:\n",
      "[[26, 58, 22], [5, 28, 48], [76, 9, 96]]\n",
      "Changed matrix:\n",
      "[[26, 58, 22], [5, 28, 48], [76, 9, -96]]\n",
      "CPU times: total: 0 ns\n",
      "Wall time: 0 ns\n",
      "=========Numpy=========\n",
      "Matrix:\n",
      "[[59 94 81]\n",
      " [75 57 99]\n",
      " [74 90  5]]\n",
      "Changed matrix:\n",
      "[[ 59  94  81]\n",
      " [ 75  57 -99]\n",
      " [ 74  90   5]]\n",
      "CPU times: total: 0 ns\n",
      "Wall time: 499 µs\n"
     ]
    }
   ],
   "source": [
    "def exercise_21_default(n, m):\n",
    "    matrix = generate_random_matrix_default(n, n, m)\n",
    "\n",
    "    print(\"Matrix:\")\n",
    "    print(matrix)\n",
    "\n",
    "    max_elem = max(max(matrix[i]) for i in range(n))\n",
    "\n",
    "    for i in range(n):\n",
    "        for j in range(n):\n",
    "            if matrix[i][j] == max_elem:\n",
    "                matrix[i][j] *= -1\n",
    "\n",
    "    print(\"Changed matrix:\")\n",
    "    print(matrix)\n",
    "\n",
    "\n",
    "def exercise_21_numpy(n, m):\n",
    "    matrix = np.random.randint(0, m + 1, size=(n, n))\n",
    "\n",
    "    print(\"Matrix:\")\n",
    "    print(matrix)\n",
    "\n",
    "    max_elem = np.max(matrix)\n",
    "    matrix[matrix == max_elem] *= -1\n",
    "\n",
    "    print(\"Changed matrix:\")\n",
    "    print(matrix)\n",
    "\n",
    "\n",
    "n, m = (3, 100)\n",
    "\n",
    "\n",
    "print(\"=========Default=========\")\n",
    "%time exercise_21_default(n, m)\n",
    "\n",
    "print(\"=========Numpy=========\")\n",
    "%time exercise_21_numpy(n, m)"
   ],
   "metadata": {
    "collapsed": false
   }
  },
  {
   "cell_type": "markdown",
   "source": [
    "# Task 2\n",
    "\n",
    "*Завдання*: 2. Розв’язати систему алгебраїчних рівнянь за допомогою формул Крамера і виконати перевірку за допомогою:\n",
    "- матричного множення;\n",
    "- оберненої матриці;\n",
    "- функції `numpy.linalg.solve()`.\n",
    "\n",
    "\n",
    "\\begin{align*}\n",
    "\\begin{cases}\n",
    "2x_1 - x_2 + 3x_3 + 2x_4 &= 4 \\\\\n",
    "3x_1 + 3x_2 + 3x_3 + 2x_4 &= 6 \\\\\n",
    "3x_1 - x_2 - x_3 + 2x_4 &= 6 \\\\\n",
    "3x_1 - x_2 + 3x_3 - x_4 &= 6 \\\\\n",
    "\\end{cases}\n",
    "\\end{align*}"
   ],
   "metadata": {
    "collapsed": false
   }
  },
  {
   "cell_type": "code",
   "execution_count": 31,
   "outputs": [
    {
     "name": "stdout",
     "output_type": "stream",
     "text": [
      "Lhs part: \n",
      "[[ 2 -1  3  2]\n",
      " [ 3  3  3  2]\n",
      " [ 3 -1 -1  2]\n",
      " [ 3 -1  3 -1]]\n",
      "Rhs part: \n",
      "[4 6 6 6]\n",
      "Cramer's rule result: \n",
      "[2. 0. 0. 0.]\n",
      "Numpy result: \n",
      "[2. 0. 0. 0.]\n",
      "Checking Cramer's result, multiplying lhs to result(using np.allclose): \n",
      "True\n",
      "Checking Cramer's result, using inverse matrix(using np.allclose): \n",
      "True\n"
     ]
    }
   ],
   "source": [
    "lhs = np.array([\n",
    "    [2, -1, 3, 2],\n",
    "    [3, 3, 3, 2],\n",
    "    [3, -1, -1, 2],\n",
    "    [3, -1, 3, -1],\n",
    "])\n",
    "\n",
    "rhs = np.array([4, 6, 6, 6])\n",
    "expected_result = np.array([2, 0, 0, 0])\n",
    "\n",
    "def solve_cramer(lhs_part, rhs_part):\n",
    "    size = lhs_part.shape[0]\n",
    "    result = np.zeros(size)\n",
    "    det = np.linalg.det(lhs_part)\n",
    "\n",
    "    if np.allclose(det, 0):\n",
    "        print(\"Unable to solve system using Cramer's rule(determinant equals zero)\")\n",
    "        return None\n",
    "\n",
    "    for i in range(size):\n",
    "        matrix_i = np.copy(lhs_part)\n",
    "        matrix_i[:, i] = np.copy(rhs_part)\n",
    "        result[i] = np.linalg.det(matrix_i) / det\n",
    "\n",
    "    return result\n",
    "\n",
    "\n",
    "print(\"Lhs part: \")\n",
    "print(lhs)\n",
    "\n",
    "print(\"Rhs part: \")\n",
    "print(rhs)\n",
    "\n",
    "cramer_result = solve_cramer(lhs, rhs)\n",
    "numpy_result = np.linalg.solve(lhs, rhs)\n",
    "\n",
    "print(\"Cramer's rule result: \")\n",
    "print(cramer_result)\n",
    "\n",
    "print(\"Numpy result: \")\n",
    "print(cramer_result)\n",
    "\n",
    "print(\"Checking Cramer's result, multiplying lhs to result(using np.allclose): \")\n",
    "print(np.allclose(lhs @ cramer_result, rhs))\n",
    "\n",
    "print(\"Checking Cramer's result, using inverse matrix(using np.allclose): \")\n",
    "print(np.allclose(np.linalg.inv(lhs) @ rhs, expected_result))"
   ],
   "metadata": {
    "collapsed": false
   }
  },
  {
   "cell_type": "code",
   "execution_count": 20,
   "outputs": [],
   "source": [],
   "metadata": {
    "collapsed": false
   }
  }
 ],
 "metadata": {
  "kernelspec": {
   "display_name": "Python 3",
   "language": "python",
   "name": "python3"
  },
  "language_info": {
   "codemirror_mode": {
    "name": "ipython",
    "version": 2
   },
   "file_extension": ".py",
   "mimetype": "text/x-python",
   "name": "python",
   "nbconvert_exporter": "python",
   "pygments_lexer": "ipython2",
   "version": "2.7.6"
  }
 },
 "nbformat": 4,
 "nbformat_minor": 0
}
