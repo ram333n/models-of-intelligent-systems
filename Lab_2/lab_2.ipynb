{
 "cells": [
  {
   "cell_type": "markdown",
   "source": [
    "# Task 1"
   ],
   "metadata": {
    "collapsed": false
   }
  },
  {
   "cell_type": "markdown",
   "source": [
    "## Exercise 1\n",
    "*Завдання*: Вводиться число n. Вивести масив розміру n×n, в якому по діагоналі йдуть числа від 1 до n, а інші числа дорівнюють 0."
   ],
   "metadata": {
    "collapsed": false
   }
  },
  {
   "cell_type": "code",
   "execution_count": 45,
   "outputs": [
    {
     "name": "stdout",
     "output_type": "stream",
     "text": [
      "=========Default=========\n",
      "7.29 µs ± 713 ns per loop (mean ± std. dev. of 7 runs, 1,000 loops each)\n",
      "=========Numpy=========\n",
      "2.28 µs ± 429 ns per loop (mean ± std. dev. of 7 runs, 1,000 loops each)\n",
      "=========Default result=========\n",
      "[[1, 0, 0, 0, 0, 0, 0, 0, 0, 0], [0, 2, 0, 0, 0, 0, 0, 0, 0, 0], [0, 0, 3, 0, 0, 0, 0, 0, 0, 0], [0, 0, 0, 4, 0, 0, 0, 0, 0, 0], [0, 0, 0, 0, 5, 0, 0, 0, 0, 0], [0, 0, 0, 0, 0, 6, 0, 0, 0, 0], [0, 0, 0, 0, 0, 0, 7, 0, 0, 0], [0, 0, 0, 0, 0, 0, 0, 8, 0, 0], [0, 0, 0, 0, 0, 0, 0, 0, 9, 0], [0, 0, 0, 0, 0, 0, 0, 0, 0, 10]]\n",
      "=========Numpy result=========\n",
      "[[ 1  0  0  0  0  0  0  0  0  0]\n",
      " [ 0  2  0  0  0  0  0  0  0  0]\n",
      " [ 0  0  3  0  0  0  0  0  0  0]\n",
      " [ 0  0  0  4  0  0  0  0  0  0]\n",
      " [ 0  0  0  0  5  0  0  0  0  0]\n",
      " [ 0  0  0  0  0  6  0  0  0  0]\n",
      " [ 0  0  0  0  0  0  7  0  0  0]\n",
      " [ 0  0  0  0  0  0  0  8  0  0]\n",
      " [ 0  0  0  0  0  0  0  0  9  0]\n",
      " [ 0  0  0  0  0  0  0  0  0 10]]\n"
     ]
    }
   ],
   "source": [
    "import numpy as np\n",
    "\n",
    "\n",
    "def exercise_1_default(n):\n",
    "    result = []\n",
    "\n",
    "    for i in range(n):\n",
    "        row = []\n",
    "\n",
    "        for j in range(n):\n",
    "            value_to_append = i + 1 if i == j else 0\n",
    "            row.append(value_to_append)\n",
    "\n",
    "        result.append(row)\n",
    "\n",
    "    return result\n",
    "\n",
    "\n",
    "def exercise_1_numpy(n):\n",
    "    return np.diag(np.arange(1, n + 1, 1))\n",
    "\n",
    "\n",
    "n = 10\n",
    "\n",
    "print(\"=========Default=========\")\n",
    "%timeit -n 1000 exercise_1_default(n)\n",
    "\n",
    "print(\"=========Numpy=========\")\n",
    "%timeit -n 1000 exercise_1_numpy(n)\n",
    "\n",
    "print(\"=========Default result=========\")\n",
    "print(exercise_1_default(n))\n",
    "\n",
    "print(\"=========Numpy result=========\")\n",
    "print(exercise_1_numpy(n))"
   ],
   "metadata": {
    "collapsed": false
   }
  },
  {
   "cell_type": "markdown",
   "source": [
    "## Exercise 3\n",
    "*Завдання*: Вводяться 4 числа n, m, r, c. Вивести масив розміру n×m, в якому в кожному рядку з номером r і в кожному стовпчику з номером c стоять 0, а інші елементи дорівнюють 1."
   ],
   "metadata": {
    "collapsed": false
   }
  },
  {
   "cell_type": "code",
   "execution_count": 46,
   "outputs": [
    {
     "name": "stdout",
     "output_type": "stream",
     "text": [
      "=========Default=========\n",
      "4.23 µs ± 340 ns per loop (mean ± std. dev. of 7 runs, 1,000 loops each)\n",
      "=========Numpy=========\n",
      "2.39 µs ± 55.9 ns per loop (mean ± std. dev. of 7 runs, 1,000 loops each)\n",
      "=========Default result=========\n",
      "[[0, 0, 0, 0, 0, 0, 0], [0, 1, 1, 0, 1, 1, 0], [0, 0, 0, 0, 0, 0, 0], [0, 1, 1, 0, 1, 1, 0], [0, 0, 0, 0, 0, 0, 0], [0, 1, 1, 0, 1, 1, 0]]\n",
      "=========Numpy result=========\n",
      "[[0 0 0 0 0 0 0]\n",
      " [0 1 1 0 1 1 0]\n",
      " [0 0 0 0 0 0 0]\n",
      " [0 1 1 0 1 1 0]\n",
      " [0 0 0 0 0 0 0]\n",
      " [0 1 1 0 1 1 0]]\n"
     ]
    }
   ],
   "source": [
    "def exercise_3_default(n, m, r, c):\n",
    "    result = []\n",
    "\n",
    "    for i in range(n):\n",
    "        row = []\n",
    "\n",
    "        for j in range(m):\n",
    "            value_to_append = 0 if (i % r == 0 or j % c == 0) else 1\n",
    "            row.append(value_to_append)\n",
    "\n",
    "        result.append(row)\n",
    "\n",
    "    return result\n",
    "\n",
    "\n",
    "def exercise_3_numpy(n, m, r, c):\n",
    "    result = np.ones((n, m), dtype=int)\n",
    "    result[::r, :] = 0\n",
    "    result[:, ::c] = 0\n",
    "\n",
    "    return result\n",
    "\n",
    "\n",
    "n, m, r, c = (6, 7, 2, 3)\n",
    "\n",
    "\n",
    "print(\"=========Default=========\")\n",
    "%timeit -n 1000 exercise_3_default(n, m, r, c)\n",
    "\n",
    "print(\"=========Numpy=========\")\n",
    "%timeit -n 1000 exercise_3_numpy(n, m, r, c)\n",
    "\n",
    "print(\"=========Default result=========\")\n",
    "print(exercise_3_default(n, m, r, c))\n",
    "\n",
    "print(\"=========Numpy result=========\")\n",
    "print(exercise_3_numpy(n, m, r, c))"
   ],
   "metadata": {
    "collapsed": false
   }
  },
  {
   "cell_type": "markdown",
   "source": [
    "## Exercise 4\n",
    "*Завдання*: Вводяться числа n і m. Вивести масив розміру n×m, в якому у першому рядку (рядок з нулевим індексом) йдуть числа від 0 до m–1, а всі інші елементи матриці дорівнюють 0."
   ],
   "metadata": {
    "collapsed": false
   }
  },
  {
   "cell_type": "code",
   "execution_count": 47,
   "outputs": [
    {
     "name": "stdout",
     "output_type": "stream",
     "text": [
      "=========Default=========\n",
      "786 ns ± 7.95 ns per loop (mean ± std. dev. of 7 runs, 1,000 loops each)\n",
      "=========Numpy=========\n",
      "1.14 µs ± 149 ns per loop (mean ± std. dev. of 7 runs, 1,000 loops each)\n",
      "=========Default result=========\n",
      "[[0, 1, 2], [0, 0, 0], [0, 0, 0], [0, 0, 0]]\n",
      "=========Numpy result=========\n",
      "[[0 1 2]\n",
      " [0 0 0]\n",
      " [0 0 0]\n",
      " [0 0 0]]\n"
     ]
    }
   ],
   "source": [
    "def exercise_4_default(n, m):\n",
    "    result = []\n",
    "\n",
    "    for i in range(m):\n",
    "        row_to_append = [idx for idx in range(n)] if i == 0 else [0] * n\n",
    "        result.append(row_to_append)\n",
    "\n",
    "    return result\n",
    "\n",
    "\n",
    "def exercise_4_numpy(n, m):\n",
    "    result = np.zeros((m, n), dtype=int)\n",
    "    result[0] = np.arange(n)\n",
    "\n",
    "    return result\n",
    "\n",
    "\n",
    "n, m = (3, 4)\n",
    "\n",
    "print(\"=========Default=========\")\n",
    "%timeit -n 1000 exercise_4_default(n, m)\n",
    "\n",
    "print(\"=========Numpy=========\")\n",
    "%timeit -n 1000 exercise_4_numpy(n, m)\n",
    "\n",
    "print(\"=========Default result=========\")\n",
    "print(exercise_4_default(n, m))\n",
    "\n",
    "print(\"=========Numpy result=========\")\n",
    "print(exercise_4_numpy(n, m))"
   ],
   "metadata": {
    "collapsed": false
   }
  },
  {
   "cell_type": "markdown",
   "source": [
    "## Exercise 5\n",
    "*Завдання*: Вводиться число n. Вивести масив розміру n×n, в якому в рядках з парними індексами стоять 1, а в інших – 0."
   ],
   "metadata": {
    "collapsed": false
   }
  },
  {
   "cell_type": "code",
   "execution_count": 48,
   "outputs": [
    {
     "name": "stdout",
     "output_type": "stream",
     "text": [
      "=========Default=========\n",
      "813 ns ± 75.6 ns per loop (mean ± std. dev. of 7 runs, 1,000 loops each)\n",
      "=========Numpy=========\n",
      "1.99 µs ± 113 ns per loop (mean ± std. dev. of 7 runs, 1,000 loops each)\n",
      "=========Default result=========\n",
      "[[1, 1, 1, 1, 1], [0, 0, 0, 0, 0], [1, 1, 1, 1, 1], [0, 0, 0, 0, 0], [1, 1, 1, 1, 1]]\n",
      "=========Numpy result=========\n",
      "[[1 1 1 1 1]\n",
      " [0 0 0 0 0]\n",
      " [1 1 1 1 1]\n",
      " [0 0 0 0 0]\n",
      " [1 1 1 1 1]]\n"
     ]
    }
   ],
   "source": [
    "def exercise_5_default(n):\n",
    "    result = []\n",
    "\n",
    "    for i in range(n):\n",
    "        row_to_append = ([1] if i % 2 == 0 else [0]) * n\n",
    "        result.append(row_to_append)\n",
    "\n",
    "    return result\n",
    "\n",
    "\n",
    "def exercise_5_numpy(n):\n",
    "    result = np.zeros((n, n), dtype=int)\n",
    "    result[::2] = np.ones(n, dtype=int)\n",
    "\n",
    "    return result\n",
    "\n",
    "\n",
    "n = 5\n",
    "\n",
    "print(\"=========Default=========\")\n",
    "%timeit -n 1000 exercise_5_default(n)\n",
    "\n",
    "print(\"=========Numpy=========\")\n",
    "%timeit -n 1000 exercise_5_numpy(n)\n",
    "\n",
    "print(\"=========Default result=========\")\n",
    "print(exercise_5_default(n))\n",
    "\n",
    "print(\"=========Numpy result=========\")\n",
    "print(exercise_5_numpy(n))"
   ],
   "metadata": {
    "collapsed": false
   }
  },
  {
   "cell_type": "markdown",
   "source": [
    "## Exercise 10\n",
    "*Завдання*: Вводиться числа n i m. Створити масив випадкових значень n×m і обчислити мінімальне, максимальне значення, середнє та середньо квадратичне відхилення, округлене до 3 знаків після коми."
   ],
   "metadata": {
    "collapsed": false
   }
  },
  {
   "cell_type": "code",
   "execution_count": 49,
   "outputs": [
    {
     "name": "stdout",
     "output_type": "stream",
     "text": [
      "=========Default=========\n",
      "Matrix:\n",
      "[[64, 64, 67, 11], [89, 10, 83, 62], [13, 33, 85, 16]]\n",
      "Min: 10\n",
      "Max: 89\n",
      "Mean: 49.750\n",
      "Standard deviation: 29.713\n",
      "CPU times: total: 0 ns\n",
      "Wall time: 0 ns\n",
      "=========Numpy=========\n",
      "Matrix:\n",
      "[[91 13 35  9]\n",
      " [63 79 44 81]\n",
      " [83 79 70 63]]\n",
      "Min: 9\n",
      "Max: 91\n",
      "Mean: 59.167\n",
      "Standard deviation: 26.542\n",
      "CPU times: total: 0 ns\n",
      "Wall time: 499 µs\n"
     ]
    }
   ],
   "source": [
    "import math\n",
    "\n",
    "\n",
    "def generate_random_matrix_default(n, m=n, upper_bound=100):\n",
    "    result = []\n",
    "\n",
    "    for i in range(n):\n",
    "        row = []\n",
    "\n",
    "        for j in range(m):\n",
    "            row.append(np.random.randint(upper_bound))\n",
    "\n",
    "        result.append(row)\n",
    "\n",
    "    return result\n",
    "\n",
    "\n",
    "def exercise_10_default(n, m):\n",
    "    matrix = generate_random_matrix_default(n, m)\n",
    "\n",
    "    print(\"Matrix:\")\n",
    "    print(matrix)\n",
    "\n",
    "    min_value = min(min(matrix[i]) for i in range(n))\n",
    "    max_value = max(max(matrix[i]) for i in range(n))\n",
    "    sum_value = sum(sum(matrix[i]) for i in range(n))\n",
    "    mean = sum_value / (n * m)\n",
    "    sqr_diff = sum((matrix[i][j] - mean) ** 2 for i in range(n) for j in range(m))\n",
    "    std_dev = math.sqrt(sqr_diff / (n * m))\n",
    "\n",
    "    print(f\"Min: {min_value}\")\n",
    "    print(f\"Max: {max_value}\")\n",
    "    print(f\"Mean: {mean:.3f}\")\n",
    "    print(f\"Standard deviation: {std_dev:.3f}\")\n",
    "\n",
    "\n",
    "def exercise_10_numpy(n, m):\n",
    "    matrix = np.random.randint(0, 100, size=(n, m))\n",
    "\n",
    "    print(\"Matrix:\")\n",
    "    print(matrix)\n",
    "\n",
    "    print(f\"Min: {np.min(matrix)}\")\n",
    "    print(f\"Max: {np.max(matrix)}\")\n",
    "    print(f\"Mean: {np.mean(matrix):.3f}\")\n",
    "    print(f\"Standard deviation: {np.std(matrix):.3f}\")\n",
    "\n",
    "\n",
    "n, m = (3, 4)\n",
    "\n",
    "print(\"=========Default=========\")\n",
    "%time exercise_10_default(n, m)\n",
    "\n",
    "print(\"=========Numpy=========\")\n",
    "%time exercise_10_numpy(n, m)"
   ],
   "metadata": {
    "collapsed": false
   }
  },
  {
   "cell_type": "markdown",
   "source": [
    "## Exercise 12\n",
    "*Завдання*: Створити масив одиниць розміром n×n та створити в ньому «рамку», що утворюється з 0."
   ],
   "metadata": {
    "collapsed": false
   }
  },
  {
   "cell_type": "code",
   "execution_count": 50,
   "outputs": [
    {
     "name": "stdout",
     "output_type": "stream",
     "text": [
      "=========Default=========\n",
      "1.08 µs ± 58.6 ns per loop (mean ± std. dev. of 7 runs, 1,000 loops each)\n",
      "=========Numpy=========\n",
      "3.52 µs ± 55.4 ns per loop (mean ± std. dev. of 7 runs, 1,000 loops each)\n",
      "=========Default result=========\n",
      "[[0, 0, 0, 0, 0], [0, 1, 1, 1, 0], [0, 1, 1, 1, 0], [0, 1, 1, 1, 0], [0, 0, 0, 0, 0]]\n",
      "=========Numpy result=========\n",
      "[[0 0 0 0 0]\n",
      " [0 1 1 1 0]\n",
      " [0 1 1 1 0]\n",
      " [0 1 1 1 0]\n",
      " [0 0 0 0 0]]\n"
     ]
    }
   ],
   "source": [
    "def exercise_12_default(n):\n",
    "    result = []\n",
    "\n",
    "    for i in range(n):\n",
    "        row_to_append = [0] * n if (i == 0 or i == n - 1) else [0] + [1] * (n - 2) + [0]\n",
    "        result.append(row_to_append)\n",
    "\n",
    "    return result\n",
    "\n",
    "\n",
    "def exercise_12_numpy(n):\n",
    "    result = np.ones((n, n), dtype=int)\n",
    "\n",
    "    result[0] = np.zeros(n, dtype=int)\n",
    "    result[-1] = np.zeros(n, dtype=int)\n",
    "    result[:, 0] = np.zeros(n, dtype=int)\n",
    "    result[:, -1] = np.zeros(n, dtype=int)\n",
    "\n",
    "    return result\n",
    "\n",
    "n = 5\n",
    "\n",
    "print(\"=========Default=========\")\n",
    "%timeit -n 1000 exercise_12_default(n)\n",
    "\n",
    "print(\"=========Numpy=========\")\n",
    "%timeit -n 1000 exercise_12_numpy(n)\n",
    "\n",
    "print(\"=========Default result=========\")\n",
    "print(exercise_12_default(n))\n",
    "\n",
    "print(\"=========Numpy result=========\")\n",
    "print(exercise_12_numpy(n))"
   ],
   "metadata": {
    "collapsed": false
   }
  },
  {
   "cell_type": "markdown",
   "source": [
    "## Exercise 16\n",
    "*Завдання*: Заповнити вектор значеннями від 0 до n. Всі значення, що більші за n/4 та менші за 3n/4 замінити нулями."
   ],
   "metadata": {
    "collapsed": false
   }
  },
  {
   "cell_type": "code",
   "execution_count": 51,
   "outputs": [
    {
     "name": "stdout",
     "output_type": "stream",
     "text": [
      "=========Default=========\n",
      "1.27 µs ± 14.6 ns per loop (mean ± std. dev. of 7 runs, 1,000 loops each)\n",
      "=========Numpy=========\n",
      "3.61 µs ± 410 ns per loop (mean ± std. dev. of 7 runs, 1,000 loops each)\n",
      "=========Default result=========\n",
      "[0, 1, 2, 0, 0, 0, 0, 0, 8, 9, 10]\n",
      "=========Numpy result=========\n",
      "[ 0  1  2  0  0  0  0  0  8  9 10]\n"
     ]
    }
   ],
   "source": [
    "def exercise_16_default(n):\n",
    "    return [0 if (n / 4 < i < (3 * n) / 4) else i for i in range(n + 1)]\n",
    "\n",
    "\n",
    "def exercise_16_numpy(n):\n",
    "    result = np.arange(n + 1)\n",
    "    result[(result > n / 4) & (result < (3 * n) / 4)] = 0\n",
    "\n",
    "    return result\n",
    "\n",
    "n = 10\n",
    "\n",
    "print(\"=========Default=========\")\n",
    "%timeit -n 1000 exercise_16_default(n)\n",
    "\n",
    "print(\"=========Numpy=========\")\n",
    "%timeit -n 1000 exercise_16_numpy(n)\n",
    "\n",
    "print(\"=========Default result=========\")\n",
    "print(exercise_16_default(n))\n",
    "\n",
    "print(\"=========Numpy result=========\")\n",
    "print(exercise_16_numpy(n))"
   ],
   "metadata": {
    "collapsed": false
   }
  },
  {
   "cell_type": "markdown",
   "source": [
    "## Exercise 17\n",
    "*Завдання*: Заповнити вектор значеннями від 0 до n. Замінити знаки для всіх значень, що менші за n/2 та більші за 3n/4 на протилежні."
   ],
   "metadata": {
    "collapsed": false
   }
  },
  {
   "cell_type": "code",
   "execution_count": 52,
   "outputs": [
    {
     "name": "stdout",
     "output_type": "stream",
     "text": [
      "=========Default=========\n",
      "1.25 µs ± 22.6 ns per loop (mean ± std. dev. of 7 runs, 1,000 loops each)\n",
      "=========Numpy=========\n",
      "4.73 µs ± 654 ns per loop (mean ± std. dev. of 7 runs, 1,000 loops each)\n",
      "=========Default result=========\n",
      "[0, -1, -2, -3, -4, 5, 6, 7, -8, -9, -10]\n",
      "=========Numpy result=========\n",
      "[  0  -1  -2  -3  -4   5   6   7  -8  -9 -10]\n"
     ]
    }
   ],
   "source": [
    "def exercise_17_default(n):\n",
    "    return [-1 * i if (i < n / 2 or i > (3 * n) / 4 ) else i for i in range(n + 1)]\n",
    "\n",
    "\n",
    "def exercise_17_numpy(n):\n",
    "    result = np.arange(n + 1)\n",
    "    result[(result < n / 2) | (result > (3 * n) / 4)] *= -1\n",
    "\n",
    "    return result\n",
    "\n",
    "n = 10\n",
    "\n",
    "print(\"=========Default=========\")\n",
    "%timeit -n 1000 exercise_17_default(n)\n",
    "\n",
    "print(\"=========Numpy=========\")\n",
    "%timeit -n 1000 exercise_17_numpy(n)\n",
    "\n",
    "print(\"=========Default result=========\")\n",
    "print(exercise_17_default(n))\n",
    "\n",
    "print(\"=========Numpy result=========\")\n",
    "print(exercise_17_numpy(n))"
   ],
   "metadata": {
    "collapsed": false
   }
  },
  {
   "cell_type": "markdown",
   "source": [
    "# Exercise 21\n",
    "*Завдання*: Ввести числа n і m. Згенерувати матрицю n×n випадкових цілих елементів з діапазону [0, m]. Замінити всі максимальні елементи цієї матриці на протилежні за знаком."
   ],
   "metadata": {
    "collapsed": false
   }
  },
  {
   "cell_type": "code",
   "execution_count": 53,
   "outputs": [
    {
     "name": "stdout",
     "output_type": "stream",
     "text": [
      "=========Default=========\n",
      "Matrix:\n",
      "[[30, 70, 0], [57, 19, 27], [95, 51, 40]]\n",
      "Changed matrix:\n",
      "[[30, 70, 0], [57, 19, 27], [-95, 51, 40]]\n",
      "CPU times: total: 0 ns\n",
      "Wall time: 0 ns\n",
      "=========Numpy=========\n",
      "Matrix:\n",
      "[[50 69 54]\n",
      " [19 75 17]\n",
      " [81 43 81]]\n",
      "Changed matrix:\n",
      "[[ 50  69  54]\n",
      " [ 19  75  17]\n",
      " [-81  43 -81]]\n",
      "CPU times: total: 0 ns\n",
      "Wall time: 500 µs\n"
     ]
    }
   ],
   "source": [
    "def exercise_21_default(n, m):\n",
    "    matrix = generate_random_matrix_default(n, n, m)\n",
    "\n",
    "    print(\"Matrix:\")\n",
    "    print(matrix)\n",
    "\n",
    "    max_elem = max(max(matrix[i]) for i in range(n))\n",
    "\n",
    "    for i in range(n):\n",
    "        for j in range(n):\n",
    "            if matrix[i][j] == max_elem:\n",
    "                matrix[i][j] *= -1\n",
    "\n",
    "    print(\"Changed matrix:\")\n",
    "    print(matrix)\n",
    "\n",
    "\n",
    "def exercise_21_numpy(n, m):\n",
    "    matrix = np.random.randint(0, m + 1, size=(n, n))\n",
    "\n",
    "    print(\"Matrix:\")\n",
    "    print(matrix)\n",
    "\n",
    "    max_elem = np.max(matrix)\n",
    "    matrix[matrix == max_elem] *= -1\n",
    "\n",
    "    print(\"Changed matrix:\")\n",
    "    print(matrix)\n",
    "\n",
    "\n",
    "n, m = (3, 100)\n",
    "\n",
    "\n",
    "print(\"=========Default=========\")\n",
    "%time exercise_21_default(n, m)\n",
    "\n",
    "print(\"=========Numpy=========\")\n",
    "%time exercise_21_numpy(n, m)"
   ],
   "metadata": {
    "collapsed": false
   }
  },
  {
   "cell_type": "markdown",
   "source": [
    "# Task 2\n",
    "\n",
    "*Завдання*: Розв’язати систему алгебраїчних рівнянь за допомогою формул Крамера і виконати перевірку за допомогою:\n",
    "- матричного множення;\n",
    "- оберненої матриці;\n",
    "- функції `numpy.linalg.solve()`.\n",
    "\n",
    "\n",
    "\\begin{align*}\n",
    "\\begin{cases}\n",
    "2x_1 - x_2 + 3x_3 + 2x_4 &= 4 \\\\\n",
    "3x_1 + 3x_2 + 3x_3 + 2x_4 &= 6 \\\\\n",
    "3x_1 - x_2 - x_3 + 2x_4 &= 6 \\\\\n",
    "3x_1 - x_2 + 3x_3 - x_4 &= 6 \\\\\n",
    "\\end{cases}\n",
    "\\end{align*}"
   ],
   "metadata": {
    "collapsed": false
   }
  },
  {
   "cell_type": "code",
   "execution_count": 54,
   "outputs": [
    {
     "name": "stdout",
     "output_type": "stream",
     "text": [
      "Lhs part: \n",
      "[[ 2 -1  3  2]\n",
      " [ 3  3  3  2]\n",
      " [ 3 -1 -1  2]\n",
      " [ 3 -1  3 -1]]\n",
      "Rhs part: \n",
      "[4 6 6 6]\n",
      "Cramer's rule result: \n",
      "[2. 0. 0. 0.]\n",
      "Numpy result: \n",
      "[2. 0. 0. 0.]\n",
      "Checking Cramer's result, multiplying lhs to result(using np.allclose): \n",
      "True\n",
      "Checking Cramer's result, using inverse matrix(using np.allclose): \n",
      "True\n"
     ]
    }
   ],
   "source": [
    "lhs = np.array([\n",
    "    [2, -1, 3, 2],\n",
    "    [3, 3, 3, 2],\n",
    "    [3, -1, -1, 2],\n",
    "    [3, -1, 3, -1],\n",
    "])\n",
    "\n",
    "rhs = np.array([4, 6, 6, 6])\n",
    "expected_result = np.array([2, 0, 0, 0])\n",
    "\n",
    "def solve_cramer(lhs_part, rhs_part):\n",
    "    size = lhs_part.shape[0]\n",
    "    result = np.zeros(size)\n",
    "    det = np.linalg.det(lhs_part)\n",
    "\n",
    "    if np.allclose(det, 0):\n",
    "        print(\"Unable to solve system using Cramer's rule(determinant equals zero)\")\n",
    "        return None\n",
    "\n",
    "    for i in range(size):\n",
    "        matrix_i = np.copy(lhs_part)\n",
    "        matrix_i[:, i] = np.copy(rhs_part)\n",
    "        result[i] = np.linalg.det(matrix_i) / det\n",
    "\n",
    "    return result\n",
    "\n",
    "\n",
    "print(\"Lhs part: \")\n",
    "print(lhs)\n",
    "\n",
    "print(\"Rhs part: \")\n",
    "print(rhs)\n",
    "\n",
    "cramer_result = solve_cramer(lhs, rhs)\n",
    "numpy_result = np.linalg.solve(lhs, rhs)\n",
    "\n",
    "print(\"Cramer's rule result: \")\n",
    "print(cramer_result)\n",
    "\n",
    "print(\"Numpy result: \")\n",
    "print(cramer_result)\n",
    "\n",
    "print(\"Checking Cramer's result, multiplying lhs to result(using np.allclose): \")\n",
    "print(np.allclose(lhs @ cramer_result, rhs))\n",
    "\n",
    "print(\"Checking Cramer's result, using inverse matrix(using np.allclose): \")\n",
    "print(np.allclose(np.linalg.inv(lhs) @ rhs, expected_result))"
   ],
   "metadata": {
    "collapsed": false
   }
  },
  {
   "cell_type": "markdown",
   "source": [
    "# Task 3\n",
    "*Завдання*: Обчислити значення матричного виразу $(A - B)A + 3B$, де\n",
    "\n",
    "\n",
    "\\begin{align*}\n",
    "A &= \\begin{pmatrix}\n",
    "    3 & 2 & -5 \\\\\n",
    "    4 & 2 & 0 \\\\\n",
    "    1 & 1 & 2\n",
    "\\end{pmatrix} \\\\\n",
    "B &= \\begin{pmatrix}\n",
    "    -1 & 2 & 4 \\\\\n",
    "    0 & 3 & 2 \\\\\n",
    "    -1 & -3 & 4\n",
    "\\end{pmatrix}\n",
    "\\end{align*}"
   ],
   "metadata": {
    "collapsed": false
   }
  },
  {
   "cell_type": "code",
   "execution_count": 55,
   "outputs": [
    {
     "name": "stdout",
     "output_type": "stream",
     "text": [
      "=========Default=========\n",
      "12.7 µs ± 368 ns per loop (mean ± std. dev. of 7 runs, 1,000 loops each)\n",
      "=========Numpy=========\n",
      "5.11 µs ± 200 ns per loop (mean ± std. dev. of 7 runs, 1,000 loops each)\n",
      "=========Default result=========\n",
      "[[0, 5, -26], [6, 13, -18], [17, 1, -2]]\n",
      "=========Numpy result=========\n",
      "[[  0   5 -26]\n",
      " [  6  13 -18]\n",
      " [ 17   1  -2]]\n",
      "=========np.allclose=========\n",
      "True\n"
     ]
    }
   ],
   "source": [
    "def add_matrices(lhs, rhs):\n",
    "    if len(lhs) != len(rhs) or len(lhs[0]) != len(rhs[0]):\n",
    "        print(\"Can't add matrices(wrong dimensions)\")\n",
    "        return None\n",
    "\n",
    "    n, m = (len(lhs), len(lhs[0]))\n",
    "\n",
    "    result = [[0 for _ in range(len(lhs[0]))] for _ in range(len(lhs))]\n",
    "\n",
    "    for i in range(n):\n",
    "        for j in range(m):\n",
    "            result[i][j] = lhs[i][j] + rhs[i][j]\n",
    "\n",
    "    return result\n",
    "\n",
    "\n",
    "def multiply_matrices(lhs, rhs):\n",
    "    if len(lhs[0]) != len(rhs):\n",
    "        print(\"Can't multiply matrices(wrong dimensions)\")\n",
    "        return None\n",
    "\n",
    "    n, m, k = (len(lhs), len(lhs[0]), len(rhs[0]))\n",
    "\n",
    "    result = [[0 for _ in range(k)] for _ in range(n)]\n",
    "\n",
    "    for i in range(n):\n",
    "        for j in range(k):\n",
    "            for p in range(k):\n",
    "                result[i][j] += lhs[i][p] * rhs[p][j]\n",
    "\n",
    "    return result\n",
    "\n",
    "\n",
    "def multiply_scalar(matrix, number):\n",
    "    n, m = (len(matrix), len(matrix[0]))\n",
    "\n",
    "    return [[matrix[i][j] * number for j in range(m)] for i in range(n)]\n",
    "\n",
    "\n",
    "def task_3_default():\n",
    "    A = [\n",
    "        [3, 2, -5],\n",
    "        [4, 2, 0],\n",
    "        [1, 1, 2]\n",
    "    ]\n",
    "\n",
    "    B = [\n",
    "        [-1, 2, 4],\n",
    "        [0, 3, 2],\n",
    "        [-1, -3, 4]\n",
    "    ]\n",
    "\n",
    "    return add_matrices(multiply_matrices(add_matrices(A, multiply_scalar(B, -1)), A), multiply_scalar(B, 3))\n",
    "\n",
    "\n",
    "def task_3_numpy():\n",
    "    A = np.array([\n",
    "        [3, 2, -5],\n",
    "        [4, 2, 0],\n",
    "        [1, 1, 2]\n",
    "    ])\n",
    "\n",
    "    B = np.array([\n",
    "        [-1, 2, 4],\n",
    "        [0, 3, 2],\n",
    "        [-1, -3, 4]\n",
    "    ])\n",
    "\n",
    "    return (A - B) @ A + 3 * B\n",
    "\n",
    "\n",
    "print(\"=========Default=========\")\n",
    "%timeit -n 1000 task_3_default()\n",
    "\n",
    "print(\"=========Numpy=========\")\n",
    "%timeit -n 1000 task_3_numpy()\n",
    "\n",
    "default_result = task_3_default()\n",
    "numpy_result = task_3_numpy()\n",
    "\n",
    "print(\"=========Default result=========\")\n",
    "print(default_result)\n",
    "print(\"=========Numpy result=========\")\n",
    "print(numpy_result)\n",
    "\n",
    "print(\"=========np.allclose=========\")\n",
    "print(np.allclose(default_result, numpy_result))\n"
   ],
   "metadata": {
    "collapsed": false
   }
  }
 ],
 "metadata": {
  "kernelspec": {
   "display_name": "Python 3",
   "language": "python",
   "name": "python3"
  },
  "language_info": {
   "codemirror_mode": {
    "name": "ipython",
    "version": 2
   },
   "file_extension": ".py",
   "mimetype": "text/x-python",
   "name": "python",
   "nbconvert_exporter": "python",
   "pygments_lexer": "ipython2",
   "version": "2.7.6"
  }
 },
 "nbformat": 4,
 "nbformat_minor": 0
}
