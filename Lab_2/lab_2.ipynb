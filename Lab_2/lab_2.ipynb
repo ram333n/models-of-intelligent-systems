{
 "cells": [
  {
   "cell_type": "markdown",
   "source": [
    "# Task 1"
   ],
   "metadata": {
    "collapsed": false
   }
  },
  {
   "cell_type": "markdown",
   "source": [
    "## Exercise 1\n",
    "*Завдання*: Вводиться число n. Вивести масив розміру n×n, в якому по діагоналі йдуть числа від 1 до n, а інші числа дорівнюють 0."
   ],
   "metadata": {
    "collapsed": false
   }
  },
  {
   "cell_type": "code",
   "execution_count": 151,
   "outputs": [
    {
     "name": "stdout",
     "output_type": "stream",
     "text": [
      "=========Default=========\n",
      "6.35 µs ± 61.1 ns per loop (mean ± std. dev. of 7 runs, 1,000 loops each)\n",
      "=========Numpy=========\n",
      "2.01 µs ± 183 ns per loop (mean ± std. dev. of 7 runs, 1,000 loops each)\n",
      "=========Default result=========\n",
      "[[1, 0, 0, 0, 0, 0, 0, 0, 0, 0], [0, 2, 0, 0, 0, 0, 0, 0, 0, 0], [0, 0, 3, 0, 0, 0, 0, 0, 0, 0], [0, 0, 0, 4, 0, 0, 0, 0, 0, 0], [0, 0, 0, 0, 5, 0, 0, 0, 0, 0], [0, 0, 0, 0, 0, 6, 0, 0, 0, 0], [0, 0, 0, 0, 0, 0, 7, 0, 0, 0], [0, 0, 0, 0, 0, 0, 0, 8, 0, 0], [0, 0, 0, 0, 0, 0, 0, 0, 9, 0], [0, 0, 0, 0, 0, 0, 0, 0, 0, 10]]\n",
      "=========Numpy result=========\n",
      "[[ 1  0  0  0  0  0  0  0  0  0]\n",
      " [ 0  2  0  0  0  0  0  0  0  0]\n",
      " [ 0  0  3  0  0  0  0  0  0  0]\n",
      " [ 0  0  0  4  0  0  0  0  0  0]\n",
      " [ 0  0  0  0  5  0  0  0  0  0]\n",
      " [ 0  0  0  0  0  6  0  0  0  0]\n",
      " [ 0  0  0  0  0  0  7  0  0  0]\n",
      " [ 0  0  0  0  0  0  0  8  0  0]\n",
      " [ 0  0  0  0  0  0  0  0  9  0]\n",
      " [ 0  0  0  0  0  0  0  0  0 10]]\n"
     ]
    }
   ],
   "source": [
    "import numpy as np\n",
    "\n",
    "\n",
    "def exercise_1_default(n):\n",
    "    result = []\n",
    "\n",
    "    for i in range(n):\n",
    "        row = []\n",
    "\n",
    "        for j in range(n):\n",
    "            value_to_append = i + 1 if i == j else 0\n",
    "            row.append(value_to_append)\n",
    "\n",
    "        result.append(row)\n",
    "\n",
    "    return result\n",
    "\n",
    "\n",
    "def exercise_1_numpy(n):\n",
    "    return np.diag(np.arange(1, n + 1, 1))\n",
    "\n",
    "\n",
    "n = 10\n",
    "\n",
    "print(\"=========Default=========\")\n",
    "%timeit -n 1000 gen_diagonal_matrix_default(n)\n",
    "\n",
    "print(\"=========Numpy=========\")\n",
    "%timeit -n 1000 gen_diagonal_matrix_numpy(n)\n",
    "\n",
    "print(\"=========Default result=========\")\n",
    "print(exercise_1_default(n))\n",
    "\n",
    "print(\"=========Numpy result=========\")\n",
    "print(exercise_1_numpy(n))"
   ],
   "metadata": {
    "collapsed": false
   }
  },
  {
   "cell_type": "markdown",
   "source": [
    "## Exercise 3\n",
    "*Завдання*: Вводяться 4 числа n, m, r, c. Вивести масив розміру n×m, в якому в кожному рядку з номером r і в кожному стовпчику з номером c стоять 0, а інші елементи дорівнюють 1."
   ],
   "metadata": {
    "collapsed": false
   }
  },
  {
   "cell_type": "code",
   "execution_count": 152,
   "outputs": [
    {
     "name": "stdout",
     "output_type": "stream",
     "text": [
      "=========Default=========\n",
      "3.74 µs ± 112 ns per loop (mean ± std. dev. of 7 runs, 1,000 loops each)\n",
      "=========Numpy=========\n",
      "2.32 µs ± 55.3 ns per loop (mean ± std. dev. of 7 runs, 1,000 loops each)\n",
      "=========Default result=========\n",
      "[[0, 0, 0, 0, 0, 0, 0], [0, 1, 1, 0, 1, 1, 0], [0, 0, 0, 0, 0, 0, 0], [0, 1, 1, 0, 1, 1, 0], [0, 0, 0, 0, 0, 0, 0], [0, 1, 1, 0, 1, 1, 0]]\n",
      "=========Numpy result=========\n",
      "[[0 0 0 0 0 0 0]\n",
      " [0 1 1 0 1 1 0]\n",
      " [0 0 0 0 0 0 0]\n",
      " [0 1 1 0 1 1 0]\n",
      " [0 0 0 0 0 0 0]\n",
      " [0 1 1 0 1 1 0]]\n"
     ]
    }
   ],
   "source": [
    "def exercise_3_default(n, m, r, c):\n",
    "    result = []\n",
    "\n",
    "    for i in range(n):\n",
    "        row = []\n",
    "\n",
    "        for j in range(m):\n",
    "            value_to_append = 0 if (i % r == 0 or j % c == 0) else 1\n",
    "            row.append(value_to_append)\n",
    "\n",
    "        result.append(row)\n",
    "\n",
    "    return result\n",
    "\n",
    "\n",
    "def exercise_3_numpy(n, m, r, c):\n",
    "    result = np.ones((n, m), dtype=int)\n",
    "    result[::r, :] = 0\n",
    "    result[:, ::c] = 0\n",
    "\n",
    "    return result\n",
    "\n",
    "\n",
    "n, m, r, c = (6, 7, 2, 3)\n",
    "\n",
    "\n",
    "print(\"=========Default=========\")\n",
    "%timeit -n 1000 exercise_3_default(n, m, r, c)\n",
    "\n",
    "print(\"=========Numpy=========\")\n",
    "%timeit -n 1000 exercise_3_numpy(n, m, r, c)\n",
    "\n",
    "print(\"=========Default result=========\")\n",
    "print(exercise_3_default(n, m, r, c))\n",
    "\n",
    "print(\"=========Numpy result=========\")\n",
    "print(exercise_3_numpy(n, m, r, c))"
   ],
   "metadata": {
    "collapsed": false
   }
  },
  {
   "cell_type": "markdown",
   "source": [
    "## Exercise 4\n",
    "*Завдання*: Вводяться числа n і m. Вивести масив розміру n×m, в якому у першому рядку (рядок з нулевим індексом) йдуть числа від 0 до m–1, а всі інші елементи матриці дорівнюють 0."
   ],
   "metadata": {
    "collapsed": false
   }
  },
  {
   "cell_type": "code",
   "execution_count": 153,
   "outputs": [
    {
     "name": "stdout",
     "output_type": "stream",
     "text": [
      "=========Default=========\n",
      "795 ns ± 8.32 ns per loop (mean ± std. dev. of 7 runs, 1,000 loops each)\n",
      "=========Numpy=========\n",
      "1.13 µs ± 177 ns per loop (mean ± std. dev. of 7 runs, 1,000 loops each)\n",
      "=========Default result=========\n",
      "[[0, 1, 2], [0, 0, 0], [0, 0, 0], [0, 0, 0]]\n",
      "=========Numpy result=========\n",
      "[[0 1 2]\n",
      " [0 0 0]\n",
      " [0 0 0]\n",
      " [0 0 0]]\n"
     ]
    }
   ],
   "source": [
    "def exercise_4_default(n, m):\n",
    "    result = []\n",
    "\n",
    "    for i in range(m):\n",
    "        row_to_append = [idx for idx in range(n)] if i == 0 else [0] * n\n",
    "        result.append(row_to_append)\n",
    "\n",
    "    return result\n",
    "\n",
    "\n",
    "def exercise_4_numpy(n, m):\n",
    "    result = np.zeros((m, n), dtype=int)\n",
    "    result[0] = np.arange(n)\n",
    "\n",
    "    return result\n",
    "\n",
    "\n",
    "n, m = (3, 4)\n",
    "\n",
    "print(\"=========Default=========\")\n",
    "%timeit -n 1000 exercise_4_default(n, m)\n",
    "\n",
    "print(\"=========Numpy=========\")\n",
    "%timeit -n 1000 exercise_4_numpy(n, m)\n",
    "\n",
    "print(\"=========Default result=========\")\n",
    "print(exercise_4_default(n, m))\n",
    "\n",
    "print(\"=========Numpy result=========\")\n",
    "print(exercise_4_numpy(n, m))"
   ],
   "metadata": {
    "collapsed": false
   }
  },
  {
   "cell_type": "markdown",
   "source": [
    "## Exercise 5\n",
    "*Завдання*: Вводиться число n. Вивести масив розміру n×n, в якому в рядках з парними індексами стоять 1, а в інших – 0."
   ],
   "metadata": {
    "collapsed": false
   }
  },
  {
   "cell_type": "code",
   "execution_count": 154,
   "outputs": [
    {
     "name": "stdout",
     "output_type": "stream",
     "text": [
      "=========Default=========\n",
      "760 ns ± 7.9 ns per loop (mean ± std. dev. of 7 runs, 1,000 loops each)\n",
      "=========Numpy=========\n",
      "2.1 µs ± 519 ns per loop (mean ± std. dev. of 7 runs, 1,000 loops each)\n",
      "=========Default result=========\n",
      "[[1, 1, 1, 1, 1], [0, 0, 0, 0, 0], [1, 1, 1, 1, 1], [0, 0, 0, 0, 0], [1, 1, 1, 1, 1]]\n",
      "=========Numpy result=========\n",
      "[[1 1 1 1 1]\n",
      " [0 0 0 0 0]\n",
      " [1 1 1 1 1]\n",
      " [0 0 0 0 0]\n",
      " [1 1 1 1 1]]\n"
     ]
    }
   ],
   "source": [
    "def exercise_5_default(n):\n",
    "    result = []\n",
    "\n",
    "    for i in range(n):\n",
    "        row_to_append = ([1] if i % 2 == 0 else [0]) * n\n",
    "        result.append(row_to_append)\n",
    "\n",
    "    return result\n",
    "\n",
    "\n",
    "def exercise_5_numpy(n):\n",
    "    result = np.zeros((n, n), dtype=int)\n",
    "    result[::2] = np.ones(n, dtype=int)\n",
    "\n",
    "    return result\n",
    "\n",
    "\n",
    "n = 5\n",
    "\n",
    "print(\"=========Default=========\")\n",
    "%timeit -n 1000 exercise_5_default(n)\n",
    "\n",
    "print(\"=========Numpy=========\")\n",
    "%timeit -n 1000 exercise_5_numpy(n)\n",
    "\n",
    "print(\"=========Default result=========\")\n",
    "print(exercise_5_default(n))\n",
    "\n",
    "print(\"=========Numpy result=========\")\n",
    "print(exercise_5_numpy(n))"
   ],
   "metadata": {
    "collapsed": false
   }
  },
  {
   "cell_type": "markdown",
   "source": [
    "## Exercise 10\n",
    "*Завдання*: Вводиться числа n i m. Створити масив випадкових значень n×m і обчислити мінімальне, максимальне значення, середнє та середньо квадратичне відхилення, округлене до 3 знаків після коми."
   ],
   "metadata": {
    "collapsed": false
   }
  },
  {
   "cell_type": "code",
   "execution_count": 155,
   "outputs": [],
   "source": [
    "def generate_random_matrix_default(n, m=n, upper_bound=100):\n",
    "    result = []\n",
    "\n",
    "    for i in range(n):\n",
    "        row = []\n",
    "\n",
    "        for j in range(m):\n",
    "            row.append(np.random.randint(upper_bound))\n",
    "\n",
    "        result.append(row)\n",
    "\n",
    "    return result\n",
    "\n",
    "# TODO: implement"
   ],
   "metadata": {
    "collapsed": false
   }
  },
  {
   "cell_type": "markdown",
   "source": [
    "## Exercise 12\n",
    "*Завдання*: Створити масив одиниць розміром n×n та створити в ньому «рамку», що утворюється з 0."
   ],
   "metadata": {
    "collapsed": false
   }
  },
  {
   "cell_type": "code",
   "execution_count": 156,
   "outputs": [
    {
     "name": "stdout",
     "output_type": "stream",
     "text": [
      "=========Default=========\n",
      "1.04 µs ± 12.1 ns per loop (mean ± std. dev. of 7 runs, 1,000 loops each)\n",
      "=========Numpy=========\n",
      "3.51 µs ± 113 ns per loop (mean ± std. dev. of 7 runs, 1,000 loops each)\n",
      "=========Default result=========\n",
      "[[0, 0, 0, 0, 0], [0, 1, 1, 1, 0], [0, 1, 1, 1, 0], [0, 1, 1, 1, 0], [0, 0, 0, 0, 0]]\n",
      "=========Numpy result=========\n",
      "[[0 0 0 0 0]\n",
      " [0 1 1 1 0]\n",
      " [0 1 1 1 0]\n",
      " [0 1 1 1 0]\n",
      " [0 0 0 0 0]]\n"
     ]
    }
   ],
   "source": [
    "def exercise_12_default(n):\n",
    "    result = []\n",
    "\n",
    "    for i in range(n):\n",
    "        row_to_append = [0] * n if (i == 0 or i == n - 1) else [0] + [1] * (n - 2) + [0]\n",
    "        result.append(row_to_append)\n",
    "\n",
    "    return result\n",
    "\n",
    "\n",
    "def exercise_12_numpy(n):\n",
    "    result = np.ones((n, n), dtype=int)\n",
    "\n",
    "    result[0] = np.zeros(n, dtype=int)\n",
    "    result[-1] = np.zeros(n, dtype=int)\n",
    "    result[:, 0] = np.zeros(n, dtype=int)\n",
    "    result[:, -1] = np.zeros(n, dtype=int)\n",
    "\n",
    "    return result\n",
    "\n",
    "n = 5\n",
    "\n",
    "print(\"=========Default=========\")\n",
    "%timeit -n 1000 exercise_12_default(n)\n",
    "\n",
    "print(\"=========Numpy=========\")\n",
    "%timeit -n 1000 exercise_12_numpy(n)\n",
    "\n",
    "print(\"=========Default result=========\")\n",
    "print(exercise_12_default(n))\n",
    "\n",
    "print(\"=========Numpy result=========\")\n",
    "print(exercise_12_numpy(n))"
   ],
   "metadata": {
    "collapsed": false
   }
  },
  {
   "cell_type": "markdown",
   "source": [
    "## Exercise 16\n",
    "*Завдання*: Заповнити вектор значеннями від 0 до n. Всі значення, що більші за n/4 та менші за 3n/4 замінити нулями."
   ],
   "metadata": {
    "collapsed": false
   }
  },
  {
   "cell_type": "code",
   "execution_count": 157,
   "outputs": [
    {
     "name": "stdout",
     "output_type": "stream",
     "text": [
      "=========Default=========\n",
      "1.28 µs ± 5.66 ns per loop (mean ± std. dev. of 7 runs, 1,000 loops each)\n",
      "=========Numpy=========\n",
      "3.63 µs ± 306 ns per loop (mean ± std. dev. of 7 runs, 1,000 loops each)\n",
      "=========Default result=========\n",
      "[0, 1, 2, 0, 0, 0, 0, 0, 8, 9, 10]\n",
      "=========Numpy result=========\n",
      "[ 0  1  2  0  0  0  0  0  8  9 10]\n"
     ]
    }
   ],
   "source": [
    "def exercise_16_default(n):\n",
    "    return [0 if (n / 4 < i < (3 * n) / 4) else i for i in range(n + 1)]\n",
    "\n",
    "\n",
    "def exercise_16_numpy(n):\n",
    "    result = np.arange(n + 1)\n",
    "    result[(result > n / 4) & (result < (3 * n) / 4)] = 0\n",
    "\n",
    "    return result\n",
    "\n",
    "n = 10\n",
    "\n",
    "print(\"=========Default=========\")\n",
    "%timeit -n 1000 exercise_16_default(n)\n",
    "\n",
    "print(\"=========Numpy=========\")\n",
    "%timeit -n 1000 exercise_16_numpy(n)\n",
    "\n",
    "print(\"=========Default result=========\")\n",
    "print(exercise_16_default(n))\n",
    "\n",
    "print(\"=========Numpy result=========\")\n",
    "print(exercise_16_numpy(n))"
   ],
   "metadata": {
    "collapsed": false
   }
  },
  {
   "cell_type": "markdown",
   "source": [
    "## Exercise 17\n",
    "*Завдання*: Заповнити вектор значеннями від 0 до n. Замінити знаки для всіх значень, що менші за n/2 та більші за 3n/4 на протилежні."
   ],
   "metadata": {
    "collapsed": false
   }
  },
  {
   "cell_type": "code",
   "execution_count": 158,
   "outputs": [
    {
     "name": "stdout",
     "output_type": "stream",
     "text": [
      "=========Default=========\n",
      "1.32 µs ± 117 ns per loop (mean ± std. dev. of 7 runs, 1,000 loops each)\n",
      "=========Numpy=========\n",
      "5.08 µs ± 887 ns per loop (mean ± std. dev. of 7 runs, 1,000 loops each)\n",
      "=========Default result=========\n",
      "[0, -1, -2, -3, -4, 5, 6, 7, -8, -9, -10]\n",
      "=========Numpy result=========\n",
      "[  0  -1  -2  -3  -4   5   6   7  -8  -9 -10]\n"
     ]
    }
   ],
   "source": [
    "def exercise_17_default(n):\n",
    "    return [-1 * i if (i < n / 2 or i > (3 * n) / 4 ) else i for i in range(n + 1)]\n",
    "\n",
    "\n",
    "def exercise_17_numpy(n):\n",
    "    result = np.arange(n + 1)\n",
    "    result[(result < n / 2) | (result > (3 * n) / 4)] *= -1\n",
    "\n",
    "    return result\n",
    "\n",
    "n = 10\n",
    "\n",
    "print(\"=========Default=========\")\n",
    "%timeit -n 1000 exercise_17_default(n)\n",
    "\n",
    "print(\"=========Numpy=========\")\n",
    "%timeit -n 1000 exercise_17_numpy(n)\n",
    "\n",
    "print(\"=========Default result=========\")\n",
    "print(exercise_17_default(n))\n",
    "\n",
    "print(\"=========Numpy result=========\")\n",
    "print(exercise_17_numpy(n))"
   ],
   "metadata": {
    "collapsed": false
   }
  },
  {
   "cell_type": "markdown",
   "source": [
    "# Exercise 21\n",
    "*Завдання*: Ввести числа n і m. Згенерувати матрицю n×n випадкових цілих елементів з діапазону [0, m]. Замінити всі максимальні елементи цієї матриці на протилежні за знаком."
   ],
   "metadata": {
    "collapsed": false
   }
  },
  {
   "cell_type": "code",
   "execution_count": 159,
   "outputs": [
    {
     "name": "stdout",
     "output_type": "stream",
     "text": [
      "=========Default=========\n",
      "Matrix:\n",
      "[[42, 75, 55], [3, 1, 28], [11, 50, 61]]\n",
      "Changed matrix:\n",
      "[[42, -75, 55], [3, 1, 28], [11, 50, 61]]\n",
      "CPU times: total: 0 ns\n",
      "Wall time: 0 ns\n",
      "=========Numpy=========\n",
      "Matrix:\n",
      "[[46 19 66]\n",
      " [15 56 60]\n",
      " [50 57 90]]\n",
      "Changed matrix:\n",
      "[[ 46  19  66]\n",
      " [ 15  56  60]\n",
      " [ 50  57 -90]]\n",
      "CPU times: total: 0 ns\n",
      "Wall time: 500 µs\n"
     ]
    }
   ],
   "source": [
    "def exercise_21_default(n, m):\n",
    "    matrix = generate_random_matrix_default(n, n, m)\n",
    "\n",
    "    print(\"Matrix:\")\n",
    "    print(matrix)\n",
    "\n",
    "    max_elem = max(max(matrix[i]) for i in range(n))\n",
    "\n",
    "    for i in range(n):\n",
    "        for j in range(n):\n",
    "            if matrix[i][j] == max_elem:\n",
    "                matrix[i][j] *= -1\n",
    "\n",
    "    print(\"Changed matrix:\")\n",
    "    print(matrix)\n",
    "\n",
    "\n",
    "def exercise_21_numpy(n, m):\n",
    "    matrix = np.random.randint(0, m + 1, size=(n, n))\n",
    "\n",
    "    print(\"Matrix:\")\n",
    "    print(matrix)\n",
    "\n",
    "    max_elem = np.max(matrix)\n",
    "    matrix[matrix == max_elem] *= -1\n",
    "\n",
    "    print(\"Changed matrix:\")\n",
    "    print(matrix)\n",
    "\n",
    "\n",
    "n, m = (3, 100)\n",
    "\n",
    "\n",
    "print(\"=========Default=========\")\n",
    "%time exercise_21_default(n, m)\n",
    "\n",
    "print(\"=========Numpy=========\")\n",
    "%time exercise_21_numpy(n, m)"
   ],
   "metadata": {
    "collapsed": false
   }
  },
  {
   "cell_type": "code",
   "execution_count": 159,
   "outputs": [],
   "source": [],
   "metadata": {
    "collapsed": false
   }
  }
 ],
 "metadata": {
  "kernelspec": {
   "display_name": "Python 3",
   "language": "python",
   "name": "python3"
  },
  "language_info": {
   "codemirror_mode": {
    "name": "ipython",
    "version": 2
   },
   "file_extension": ".py",
   "mimetype": "text/x-python",
   "name": "python",
   "nbconvert_exporter": "python",
   "pygments_lexer": "ipython2",
   "version": "2.7.6"
  }
 },
 "nbformat": 4,
 "nbformat_minor": 0
}
